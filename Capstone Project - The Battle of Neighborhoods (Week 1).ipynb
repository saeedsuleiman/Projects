{
 "cells": [
  {
   "cell_type": "code",
   "execution_count": 1,
   "id": "20c79191-ebde-4681-abf4-121a51328337",
   "metadata": {},
   "outputs": [
    {
     "name": "stdout",
     "output_type": "stream",
     "text": [
      "Requirement already satisfied: folium in /home/jupyterlab/conda/envs/python/lib/python3.6/site-packages (0.5.0)\n",
      "Requirement already satisfied: requests in /home/jupyterlab/conda/envs/python/lib/python3.6/site-packages (from folium) (2.25.1)\n",
      "Requirement already satisfied: six in /home/jupyterlab/conda/envs/python/lib/python3.6/site-packages (from folium) (1.16.0)\n",
      "Requirement already satisfied: branca in /home/jupyterlab/conda/envs/python/lib/python3.6/site-packages (from folium) (0.4.2)\n",
      "Requirement already satisfied: jinja2 in /home/jupyterlab/conda/envs/python/lib/python3.6/site-packages (from folium) (3.0.1)\n",
      "Requirement already satisfied: idna<3,>=2.5 in /home/jupyterlab/conda/envs/python/lib/python3.6/site-packages (from requests->folium) (2.10)\n",
      "Requirement already satisfied: urllib3<1.27,>=1.21.1 in /home/jupyterlab/conda/envs/python/lib/python3.6/site-packages (from requests->folium) (1.26.5)\n",
      "Requirement already satisfied: certifi>=2017.4.17 in /home/jupyterlab/conda/envs/python/lib/python3.6/site-packages (from requests->folium) (2020.12.5)\n",
      "Requirement already satisfied: chardet<5,>=3.0.2 in /home/jupyterlab/conda/envs/python/lib/python3.6/site-packages (from requests->folium) (4.0.0)\n",
      "Requirement already satisfied: MarkupSafe>=2.0 in /home/jupyterlab/conda/envs/python/lib/python3.6/site-packages (from jinja2->folium) (2.0.1)\n"
     ]
    }
   ],
   "source": [
    "import requests # library to handle requests\n",
    "import pandas as pd # library for data analsysis\n",
    "import numpy as np\n",
    "!pip install folium\n",
    "import folium"
   ]
  },
  {
   "cell_type": "code",
   "execution_count": 3,
   "id": "e0d42a36-038b-47e6-9ccf-e16e18e811ec",
   "metadata": {},
   "outputs": [
    {
     "name": "stdout",
     "output_type": "stream",
     "text": [
      "Your credentails:\n",
      "CLIENT_ID: UC5JPATLD4ZDRIFLB31QMJHIM3CVY1XM2J3FALJQ0J15BO2U\n",
      "CLIENT_SECRET:U5YHMLDXRKITTZ3C15CBUFPQ20IJ05H54N2Z4MSV1WPZA5WB\n"
     ]
    }
   ],
   "source": [
    "CLIENT_ID = 'UC5JPATLD4ZDRIFLB31QMJHIM3CVY1XM2J3FALJQ0J15BO2U' # your Foursquare ID\n",
    "CLIENT_SECRET = 'U5YHMLDXRKITTZ3C15CBUFPQ20IJ05H54N2Z4MSV1WPZA5WB' # your Foursquare Secret\n",
    "VERSION = '20180604'\n",
    "LIMIT = 40\n",
    "print('Your credentails:')\n",
    "print('CLIENT_ID: ' + CLIENT_ID)\n",
    "print('CLIENT_SECRET:' + CLIENT_SECRET)"
   ]
  },
  {
   "cell_type": "code",
   "execution_count": 4,
   "id": "5b98476a-4adb-4e14-bee3-d11a55b62adf",
   "metadata": {},
   "outputs": [],
   "source": [
    "import requests\n",
    "\n",
    "request_parameters = {\n",
    "    \"client_id\": CLIENT_ID,\n",
    "    \"client_secret\": CLIENT_SECRET,\n",
    "    \"v\": '20180605',\n",
    "    \"section\": \"sea\",\n",
    "    \"near\": \"jeddah\",\n",
    "    \"radius\": 1000,\n",
    "    \"limit\": 100}\n",
    "\n",
    "data = requests.get(\"https://api.foursquare.com/v2/venues/explore\", params=request_parameters)"
   ]
  },
  {
   "cell_type": "code",
   "execution_count": 5,
   "id": "57aea6a0-482a-49c8-9cb6-1cb190d217bc",
   "metadata": {},
   "outputs": [
    {
     "data": {
      "text/plain": [
       "dict_keys(['suggestedFilters', 'geocode', 'headerLocation', 'headerFullLocation', 'headerLocationGranularity', 'totalResults', 'suggestedBounds', 'groups'])"
      ]
     },
     "execution_count": 5,
     "metadata": {},
     "output_type": "execute_result"
    }
   ],
   "source": [
    "d = data.json()[\"response\"]\n",
    "d.keys()"
   ]
  },
  {
   "cell_type": "code",
   "execution_count": 6,
   "id": "aa23878d-ee2c-4f3d-a37a-5fa105298e0c",
   "metadata": {},
   "outputs": [
    {
     "data": {
      "text/plain": [
       "('city', 'Jeddah', 'Jeddah')"
      ]
     },
     "execution_count": 6,
     "metadata": {},
     "output_type": "execute_result"
    }
   ],
   "source": [
    "d[\"headerLocationGranularity\"], d[\"headerLocation\"], d[\"headerFullLocation\"]"
   ]
  },
  {
   "cell_type": "code",
   "execution_count": 7,
   "id": "00246f4f-12f0-4fbe-b655-823b21c83ec4",
   "metadata": {},
   "outputs": [
    {
     "data": {
      "text/plain": [
       "({'ne': {'lat': 21.549953769425866, 'lng': 39.20764788955189},\n",
       "  'sw': {'lat': 21.532652188041883, 'lng': 39.18885686240229}},\n",
       " 46)"
      ]
     },
     "execution_count": 7,
     "metadata": {},
     "output_type": "execute_result"
    }
   ],
   "source": [
    "d[\"suggestedBounds\"], d[\"totalResults\"]"
   ]
  },
  {
   "cell_type": "code",
   "execution_count": 8,
   "id": "f6a5db57-d61a-4d0f-a90a-41ead2a7e23f",
   "metadata": {},
   "outputs": [
    {
     "data": {
      "text/plain": [
       "{'what': '',\n",
       " 'where': 'jeddah',\n",
       " 'center': {'lat': 21.54238, 'lng': 39.19797},\n",
       " 'displayString': 'Jeddah, Saudi Arabia',\n",
       " 'cc': 'SA',\n",
       " 'geometry': {'bounds': {'ne': {'lat': 21.817041, 'lng': 39.303589},\n",
       "   'sw': {'lat': 21.314672, 'lng': 39.047565}}},\n",
       " 'slug': 'jeddah',\n",
       " 'longId': '72057594038033279'}"
      ]
     },
     "execution_count": 8,
     "metadata": {},
     "output_type": "execute_result"
    }
   ],
   "source": [
    "d[\"geocode\"]"
   ]
  },
  {
   "cell_type": "code",
   "execution_count": 9,
   "id": "b6cf0a96-ef10-4d9a-bd74-799b2943f5ff",
   "metadata": {},
   "outputs": [
    {
     "data": {
      "text/plain": [
       "dict_keys(['type', 'name', 'items'])"
      ]
     },
     "execution_count": 9,
     "metadata": {},
     "output_type": "execute_result"
    }
   ],
   "source": [
    "d[\"groups\"][0].keys()"
   ]
  },
  {
   "cell_type": "code",
   "execution_count": 10,
   "id": "679789b0-aeb2-4003-bcf6-3164fdc3e197",
   "metadata": {},
   "outputs": [
    {
     "data": {
      "text/plain": [
       "('Recommended Places', 'recommended')"
      ]
     },
     "execution_count": 10,
     "metadata": {},
     "output_type": "execute_result"
    }
   ],
   "source": [
    "d[\"groups\"][0][\"type\"], d[\"groups\"][0][\"name\"]"
   ]
  },
  {
   "cell_type": "code",
   "execution_count": 11,
   "id": "3aa4711c-7cae-4676-bff1-b0b6ed5462fd",
   "metadata": {},
   "outputs": [
    {
     "name": "stdout",
     "output_type": "stream",
     "text": [
      "number of items: 46\n"
     ]
    },
    {
     "data": {
      "text/plain": [
       "{'reasons': {'count': 0,\n",
       "  'items': [{'summary': 'This spot is popular',\n",
       "    'type': 'general',\n",
       "    'reasonName': 'globalInteractionReason'}]},\n",
       " 'venue': {'id': '4f367de1e4b08f00986ceee5',\n",
       "  'name': 'العماري للأقمشة',\n",
       "  'location': {'address': 'East comm. Ctr. 1 gate 7',\n",
       "   'crossStreet': 'Makarona St',\n",
       "   'lat': 21.542388997135777,\n",
       "   'lng': 39.197059467440354,\n",
       "   'labeledLatLngs': [{'label': 'display',\n",
       "     'lat': 21.542388997135777,\n",
       "     'lng': 39.197059467440354}],\n",
       "   'postalCode': '21382',\n",
       "   'cc': 'SA',\n",
       "   'city': 'جدة',\n",
       "   'state': 'منطقة مكة',\n",
       "   'country': 'المملكة العربية السعودية',\n",
       "   'formattedAddress': ['East comm. Ctr. 1 gate 7 (Makarona St)',\n",
       "    'جدة 21382',\n",
       "    'المملكة العربية السعودية']},\n",
       "  'categories': [{'id': '4bf58dd8d48988d108951735',\n",
       "    'name': \"Women's Store\",\n",
       "    'pluralName': \"Women's Stores\",\n",
       "    'shortName': \"Women's Store\",\n",
       "    'icon': {'prefix': 'https://ss3.4sqi.net/img/categories_v2/shops/apparel_women_',\n",
       "     'suffix': '.png'},\n",
       "    'primary': True}],\n",
       "  'photos': {'count': 0, 'groups': []}},\n",
       " 'referralId': 'e-0-4f367de1e4b08f00986ceee5-0'}"
      ]
     },
     "execution_count": 11,
     "metadata": {},
     "output_type": "execute_result"
    }
   ],
   "source": [
    "items = d[\"groups\"][0][\"items\"]\n",
    "print(\"number of items: %i\" % len(items))\n",
    "items[0]"
   ]
  },
  {
   "cell_type": "code",
   "execution_count": 12,
   "id": "80885530-6056-454b-8d2f-c9f3ec7abb59",
   "metadata": {},
   "outputs": [
    {
     "data": {
      "text/plain": [
       "{'reasons': {'count': 0,\n",
       "  'items': [{'summary': 'This spot is popular',\n",
       "    'type': 'general',\n",
       "    'reasonName': 'globalInteractionReason'}]},\n",
       " 'venue': {'id': '505f1bd2e4b07e3a197acd9f',\n",
       "  'name': 'Montana Sweets (حلواني مونتانا)',\n",
       "  'location': {'lat': 21.542706002985202,\n",
       "   'lng': 39.19941143029486,\n",
       "   'labeledLatLngs': [{'label': 'display',\n",
       "     'lat': 21.542706002985202,\n",
       "     'lng': 39.19941143029486}],\n",
       "   'cc': 'SA',\n",
       "   'country': 'المملكة العربية السعودية',\n",
       "   'formattedAddress': ['المملكة العربية السعودية']},\n",
       "  'categories': [{'id': '4bf58dd8d48988d1bc941735',\n",
       "    'name': 'Cupcake Shop',\n",
       "    'pluralName': 'Cupcake Shops',\n",
       "    'shortName': 'Cupcakes',\n",
       "    'icon': {'prefix': 'https://ss3.4sqi.net/img/categories_v2/food/cupcakes_',\n",
       "     'suffix': '.png'},\n",
       "    'primary': True}],\n",
       "  'photos': {'count': 0, 'groups': []}},\n",
       " 'referralId': 'e-0-505f1bd2e4b07e3a197acd9f-1'}"
      ]
     },
     "execution_count": 12,
     "metadata": {},
     "output_type": "execute_result"
    }
   ],
   "source": [
    "items[1]"
   ]
  },
  {
   "cell_type": "code",
   "execution_count": 13,
   "id": "1fc3a0d2-ec62-4749-9bc2-0a945255186e",
   "metadata": {},
   "outputs": [
    {
     "name": "stdout",
     "output_type": "stream",
     "text": [
      "{'address': 'East comm. Ctr. 1 gate 7', 'crossStreet': 'Makarona St', 'lat': 21.542388997135777, 'lng': 39.197059467440354, 'labeledLatLngs': [{'label': 'display', 'lat': 21.542388997135777, 'lng': 39.197059467440354}], 'postalCode': '21382', 'cc': 'SA', 'city': 'جدة', 'state': 'منطقة مكة', 'country': 'المملكة العربية السعودية', 'formattedAddress': ['East comm. Ctr. 1 gate 7 (Makarona St)', 'جدة 21382', 'المملكة العربية السعودية']}\n",
      "{'lat': 21.542706002985202, 'lng': 39.19941143029486, 'labeledLatLngs': [{'label': 'display', 'lat': 21.542706002985202, 'lng': 39.19941143029486}], 'cc': 'SA', 'country': 'المملكة العربية السعودية', 'formattedAddress': ['المملكة العربية السعودية']}\n",
      "{'lat': 21.544912301906813, 'lng': 39.194185210027236, 'labeledLatLngs': [{'label': 'display', 'lat': 21.544912301906813, 'lng': 39.194185210027236}], 'cc': 'SA', 'city': 'جدة', 'state': 'منطقة مكة', 'country': 'المملكة العربية السعودية', 'formattedAddress': ['جدة', 'المملكة العربية السعودية']}\n",
      "{'address': 'شارع غرناطة', 'crossStreet': 'شارع المكرونة', 'lat': 21.54524568978464, 'lng': 39.19551730155945, 'labeledLatLngs': [{'label': 'display', 'lat': 21.54524568978464, 'lng': 39.19551730155945}], 'postalCode': '11423', 'cc': 'SA', 'city': 'جدة', 'state': 'منطقة مكة', 'country': 'المملكة العربية السعودية', 'formattedAddress': ['شارع غرناطة (شارع المكرونة)', 'جدة 11423', 'المملكة العربية السعودية']}\n",
      "{'lat': 21.54256193567248, 'lng': 39.19114670087876, 'labeledLatLngs': [{'label': 'display', 'lat': 21.54256193567248, 'lng': 39.19114670087876}], 'cc': 'SA', 'country': 'المملكة العربية السعودية', 'formattedAddress': ['المملكة العربية السعودية']}\n",
      "{'lat': 21.545506044338023, 'lng': 39.19662689345014, 'labeledLatLngs': [{'label': 'display', 'lat': 21.545506044338023, 'lng': 39.19662689345014}], 'cc': 'SA', 'city': 'جدة', 'state': 'منطقة مكة', 'country': 'المملكة العربية السعودية', 'formattedAddress': ['جدة', 'المملكة العربية السعودية']}\n",
      "{'address': 'Macrona St، Aziziyah', 'lat': 21.546609, 'lng': 39.19562, 'labeledLatLngs': [{'label': 'display', 'lat': 21.546609, 'lng': 39.19562}], 'cc': 'SA', 'neighborhood': 'Al-Azizeyyah', 'city': 'جدة', 'state': 'منطقة مكة', 'country': 'المملكة العربية السعودية', 'formattedAddress': ['Macrona St، Aziziyah', 'جدة', 'المملكة العربية السعودية']}\n",
      "{'lat': 21.544912912355045, 'lng': 39.206108223579115, 'labeledLatLngs': [{'label': 'display', 'lat': 21.544912912355045, 'lng': 39.206108223579115}], 'cc': 'SA', 'country': 'المملكة العربية السعودية', 'formattedAddress': ['المملكة العربية السعودية']}\n",
      "{'address': 'شارع الستين', 'lat': 21.53653247642419, 'lng': 39.19225307445327, 'labeledLatLngs': [{'label': 'display', 'lat': 21.53653247642419, 'lng': 39.19225307445327}], 'cc': 'SA', 'city': 'جدة', 'state': 'منطقة مكة', 'country': 'المملكة العربية السعودية', 'formattedAddress': ['شارع الستين', 'جدة', 'المملكة العربية السعودية']}\n",
      "{'address': 'شارع فلسطين', 'lat': 21.53399389514047, 'lng': 39.201227856619255, 'labeledLatLngs': [{'label': 'display', 'lat': 21.53399389514047, 'lng': 39.201227856619255}], 'cc': 'SA', 'city': 'جدة', 'state': 'منطقة مكة', 'country': 'المملكة العربية السعودية', 'formattedAddress': ['شارع فلسطين', 'جدة', 'المملكة العربية السعودية']}\n",
      "{'address': '4393 Al Tuyur', 'crossStreet': 'Falasteen Street', 'lat': 21.533438623559338, 'lng': 39.19692726409651, 'labeledLatLngs': [{'label': 'display', 'lat': 21.533438623559338, 'lng': 39.19692726409651}], 'postalCode': '23335', 'cc': 'SA', 'city': 'جدة', 'state': 'منطقة مكة', 'country': 'المملكة العربية السعودية', 'formattedAddress': ['4393 Al Tuyur (Falasteen Street)', 'جدة 23335', 'المملكة العربية السعودية']}\n",
      "{'lat': 21.546928, 'lng': 39.189711, 'labeledLatLngs': [{'label': 'display', 'lat': 21.546928, 'lng': 39.189711}], 'postalCode': '23333', 'cc': 'SA', 'city': 'جدة', 'state': 'منطقة مكة', 'country': 'المملكة العربية السعودية', 'formattedAddress': ['جدة 23333', 'المملكة العربية السعودية']}\n",
      "{'lat': 21.533474, 'lng': 39.196891, 'labeledLatLngs': [{'label': 'display', 'lat': 21.533474, 'lng': 39.196891}], 'postalCode': '23335', 'cc': 'SA', 'city': 'جدة', 'state': 'منطقة مكة', 'country': 'المملكة العربية السعودية', 'formattedAddress': ['جدة 23335', 'المملكة العربية السعودية']}\n",
      "{'lat': 21.546753, 'lng': 39.189772, 'labeledLatLngs': [{'label': 'display', 'lat': 21.546753, 'lng': 39.189772}], 'postalCode': '23333', 'cc': 'SA', 'city': 'جدة', 'state': 'منطقة مكة', 'country': 'المملكة العربية السعودية', 'formattedAddress': ['جدة 23333', 'المملكة العربية السعودية']}\n",
      "{'address': 'مجمع الشرق', 'lat': 21.54331744392477, 'lng': 39.19733097341324, 'labeledLatLngs': [{'label': 'display', 'lat': 21.54331744392477, 'lng': 39.19733097341324}], 'cc': 'SA', 'city': 'شارع المكرونة', 'state': 'جدة', 'country': 'المملكة العربية السعودية', 'formattedAddress': ['مجمع الشرق', 'شارع المكرونة', 'المملكة العربية السعودية']}\n",
      "{'lat': 21.54243302184583, 'lng': 39.19121351976, 'labeledLatLngs': [{'label': 'display', 'lat': 21.54243302184583, 'lng': 39.19121351976}], 'cc': 'SA', 'country': 'المملكة العربية السعودية', 'formattedAddress': ['المملكة العربية السعودية']}\n",
      "{'address': 'King Fahad Road (Sitten)', 'lat': 21.536514233393373, 'lng': 39.19228248977862, 'labeledLatLngs': [{'label': 'display', 'lat': 21.536514233393373, 'lng': 39.19228248977862}], 'cc': 'SA', 'city': 'جدة', 'state': 'منطقة مكة', 'country': 'المملكة العربية السعودية', 'formattedAddress': ['King Fahad Road (Sitten)', 'جدة', 'المملكة العربية السعودية']}\n",
      "{'address': 'Mushrefah 4 District', 'crossStreet': 'Al Makronah Street', 'lat': 21.537063, 'lng': 39.197366, 'labeledLatLngs': [{'label': 'display', 'lat': 21.537063, 'lng': 39.197366}], 'cc': 'SA', 'city': 'جدة', 'state': 'منطقة مكة', 'country': 'المملكة العربية السعودية', 'formattedAddress': ['Mushrefah 4 District (Al Makronah Street)', 'جدة', 'المملكة العربية السعودية']}\n",
      "{'lat': 21.53529939961695, 'lng': 39.197865000368814, 'labeledLatLngs': [{'label': 'display', 'lat': 21.53529939961695, 'lng': 39.197865000368814}], 'cc': 'SA', 'city': 'جدة', 'state': 'منطقة مكة', 'country': 'المملكة العربية السعودية', 'formattedAddress': ['جدة', 'المملكة العربية السعودية']}\n",
      "{'address': 'Besides Faisaliyah Graveyard', 'crossStreet': 'Gharnata St', 'lat': 21.547075752680975, 'lng': 39.203398178334844, 'labeledLatLngs': [{'label': 'display', 'lat': 21.547075752680975, 'lng': 39.203398178334844}], 'cc': 'SA', 'city': 'جدة', 'state': 'منطقة مكة', 'country': 'المملكة العربية السعودية', 'formattedAddress': ['Besides Faisaliyah Graveyard (Gharnata St)', 'جدة', 'المملكة العربية السعودية']}\n",
      "{'address': 'حي مشرفه', 'crossStreet': 'شارع فلسطين', 'lat': 21.534021498000822, 'lng': 39.20109969145246, 'labeledLatLngs': [{'label': 'display', 'lat': 21.534021498000822, 'lng': 39.20109969145246}], 'postalCode': '23335', 'cc': 'SA', 'city': 'جدة', 'state': 'منطقة مكة', 'country': 'المملكة العربية السعودية', 'formattedAddress': ['حي مشرفه (شارع فلسطين)', 'جدة 23335', 'المملكة العربية السعودية']}\n",
      "{'address': 'seteen st. mushrefa', 'crossStreet': 'Palastine st.', 'lat': 21.537649460959276, 'lng': 39.19190112034952, 'labeledLatLngs': [{'label': 'display', 'lat': 21.537649460959276, 'lng': 39.19190112034952}], 'cc': 'SA', 'city': 'جدة', 'state': 'منطقة مكة', 'country': 'المملكة العربية السعودية', 'formattedAddress': ['seteen st. mushrefa (Palastine st.)', 'جدة', 'المملكة العربية السعودية']}\n",
      "{'lat': 21.54299114559672, 'lng': 39.19118576579204, 'labeledLatLngs': [{'label': 'display', 'lat': 21.54299114559672, 'lng': 39.19118576579204}], 'cc': 'SA', 'country': 'المملكة العربية السعودية', 'formattedAddress': ['المملكة العربية السعودية']}\n",
      "{'lat': 21.537573, 'lng': 39.196604, 'labeledLatLngs': [{'label': 'display', 'lat': 21.537573, 'lng': 39.196604}], 'cc': 'SA', 'country': 'المملكة العربية السعودية', 'formattedAddress': ['المملكة العربية السعودية']}\n",
      "{'lat': 21.545471871756877, 'lng': 39.205986666285476, 'labeledLatLngs': [{'label': 'display', 'lat': 21.545471871756877, 'lng': 39.205986666285476}], 'cc': 'SA', 'city': 'جدة', 'state': 'منطقة مكة', 'country': 'المملكة العربية السعودية', 'formattedAddress': ['جدة', 'المملكة العربية السعودية']}\n",
      "{'lat': 21.546091733606513, 'lng': 39.189998772664836, 'labeledLatLngs': [{'label': 'display', 'lat': 21.546091733606513, 'lng': 39.189998772664836}], 'cc': 'SA', 'country': 'المملكة العربية السعودية', 'formattedAddress': ['المملكة العربية السعودية']}\n",
      "{'address': 'Al Amir Majed St.', 'lat': 21.548112278996875, 'lng': 39.20534796506939, 'labeledLatLngs': [{'label': 'display', 'lat': 21.548112278996875, 'lng': 39.20534796506939}], 'cc': 'SA', 'country': 'المملكة العربية السعودية', 'formattedAddress': ['Al Amir Majed St.', 'المملكة العربية السعودية']}\n",
      "{'address': 'Mushrafa Dist', 'lat': 21.537141302321576, 'lng': 39.19484741199664, 'labeledLatLngs': [{'label': 'display', 'lat': 21.537141302321576, 'lng': 39.19484741199664}], 'cc': 'SA', 'city': 'جدة', 'state': 'منطقة مكة', 'country': 'المملكة العربية السعودية', 'formattedAddress': ['Mushrafa Dist', 'جدة', 'المملكة العربية السعودية']}\n",
      "{'address': 'King Fahd St', 'crossStreet': 'شارع غرناطة', 'lat': 21.541838252197962, 'lng': 39.190843293372474, 'labeledLatLngs': [{'label': 'display', 'lat': 21.541838252197962, 'lng': 39.190843293372474}], 'postalCode': '23337', 'cc': 'SA', 'city': 'جدة', 'state': 'منطقة مكة', 'country': 'المملكة العربية السعودية', 'formattedAddress': ['King Fahd St (شارع غرناطة)', 'جدة 23337', 'المملكة العربية السعودية']}\n",
      "{'address': 'Al Makaronah St.', 'crossStreet': 'Mushrefah Dist.', 'lat': 21.543123078008726, 'lng': 39.1970618930079, 'labeledLatLngs': [{'label': 'display', 'lat': 21.543123078008726, 'lng': 39.1970618930079}], 'postalCode': '21332', 'cc': 'SA', 'city': 'Jeddah', 'state': 'Western Province', 'country': 'المملكة العربية السعودية', 'formattedAddress': ['Al Makaronah St. (Mushrefah Dist.)', 'Jeddah 21332', 'المملكة العربية السعودية']}\n",
      "{'lat': 21.5450919763874, 'lng': 39.19365513450051, 'labeledLatLngs': [{'label': 'display', 'lat': 21.5450919763874, 'lng': 39.19365513450051}], 'cc': 'SA', 'city': 'جدة', 'state': 'منطقة مكة', 'country': 'المملكة العربية السعودية', 'formattedAddress': ['جدة', 'المملكة العربية السعودية']}\n",
      "{'lat': 21.543519, 'lng': 39.19728, 'labeledLatLngs': [{'label': 'display', 'lat': 21.543519, 'lng': 39.19728}], 'cc': 'SA', 'city': 'جدة', 'state': 'منطقة مكة', 'country': 'المملكة العربية السعودية', 'formattedAddress': ['جدة', 'المملكة العربية السعودية']}\n",
      "{'lat': 21.544756596363243, 'lng': 39.20559991461392, 'labeledLatLngs': [{'label': 'display', 'lat': 21.544756596363243, 'lng': 39.20559991461392}], 'cc': 'SA', 'country': 'المملكة العربية السعودية', 'formattedAddress': ['المملكة العربية السعودية']}\n",
      "{'lat': 21.54574661950565, 'lng': 39.19575709064954, 'labeledLatLngs': [{'label': 'display', 'lat': 21.54574661950565, 'lng': 39.19575709064954}], 'cc': 'SA', 'city': 'جدة', 'state': 'منطقة مكة', 'country': 'المملكة العربية السعودية', 'formattedAddress': ['جدة', 'المملكة العربية السعودية']}\n",
      "{'address': 'Prince Majid Road', 'lat': 21.54208432857003, 'lng': 39.20651496979222, 'labeledLatLngs': [{'label': 'display', 'lat': 21.54208432857003, 'lng': 39.20651496979222}], 'cc': 'SA', 'city': 'جدة', 'state': 'منطقة مكة', 'country': 'المملكة العربية السعودية', 'formattedAddress': ['Prince Majid Road', 'جدة', 'المملكة العربية السعودية']}\n",
      "{'address': 'alaziziyah', 'crossStreet': 'gharnatah', 'lat': 21.547674434266998, 'lng': 39.204602226533424, 'labeledLatLngs': [{'label': 'display', 'lat': 21.547674434266998, 'lng': 39.204602226533424}], 'cc': 'SA', 'city': 'جدة', 'state': 'منطقة مكة', 'country': 'المملكة العربية السعودية', 'formattedAddress': ['alaziziyah (gharnatah)', 'جدة', 'المملكة العربية السعودية']}\n",
      "{'lat': 21.547175, 'lng': 39.194879, 'labeledLatLngs': [{'label': 'display', 'lat': 21.547175, 'lng': 39.194879}], 'cc': 'SA', 'city': 'جدة', 'state': 'منطقة مكة', 'country': 'المملكة العربية السعودية', 'formattedAddress': ['جدة', 'المملكة العربية السعودية']}\n",
      "{'lat': 21.538575699286767, 'lng': 39.20269203480254, 'labeledLatLngs': [{'label': 'display', 'lat': 21.538575699286767, 'lng': 39.20269203480254}], 'cc': 'SA', 'city': 'جدة', 'state': 'منطقة مكة', 'country': 'المملكة العربية السعودية', 'formattedAddress': ['جدة', 'المملكة العربية السعودية']}\n",
      "{'lat': 21.542949916413246, 'lng': 39.19127384855172, 'labeledLatLngs': [{'label': 'display', 'lat': 21.542949916413246, 'lng': 39.19127384855172}], 'cc': 'SA', 'country': 'المملكة العربية السعودية', 'formattedAddress': ['المملكة العربية السعودية']}\n",
      "{'lat': 21.54673695917807, 'lng': 39.20394074271185, 'labeledLatLngs': [{'label': 'display', 'lat': 21.54673695917807, 'lng': 39.20394074271185}], 'cc': 'SA', 'country': 'المملكة العربية السعودية', 'formattedAddress': ['المملكة العربية السعودية']}\n",
      "{'address': 'Macrona St، Aziziyah', 'lat': 21.549167333908414, 'lng': 39.19490413136169, 'labeledLatLngs': [{'label': 'display', 'lat': 21.549167333908414, 'lng': 39.19490413136169}], 'postalCode': '321456', 'cc': 'SA', 'city': 'jeddah', 'state': 'makah', 'country': 'المملكة العربية السعودية', 'formattedAddress': ['Macrona St، Aziziyah', 'jeddah 321456', 'المملكة العربية السعودية']}\n",
      "{'address': 'Falesteen St', 'lat': 21.53473026047582, 'lng': 39.197336050391016, 'labeledLatLngs': [{'label': 'display', 'lat': 21.53473026047582, 'lng': 39.197336050391016}], 'cc': 'SA', 'city': 'جدة', 'state': 'منطقة مكة', 'country': 'المملكة العربية السعودية', 'formattedAddress': ['Falesteen St', 'جدة', 'المملكة العربية السعودية']}\n",
      "{'address': 'Mushrefah Dist', 'crossStreet': 'Almakarounah Road', 'lat': 21.534278, 'lng': 39.197908, 'labeledLatLngs': [{'label': 'display', 'lat': 21.534278, 'lng': 39.197908}], 'postalCode': '23335', 'cc': 'SA', 'city': 'Jeddah', 'state': 'منطقة مكة', 'country': 'المملكة العربية السعودية', 'formattedAddress': ['Mushrefah Dist (Almakarounah Road)', 'Jeddah 23335', 'المملكة العربية السعودية']}\n",
      "{'address': 'ك٢', 'lat': 21.540677460083202, 'lng': 39.20679375195419, 'labeledLatLngs': [{'label': 'display', 'lat': 21.540677460083202, 'lng': 39.20679375195419}], 'cc': 'SA', 'city': 'جدة', 'state': 'منطقة مكة', 'country': 'المملكة العربية السعودية', 'formattedAddress': ['ك٢', 'جدة', 'المملكة العربية السعودية']}\n",
      "{'lat': 21.53356, 'lng': 39.1986, 'labeledLatLngs': [{'label': 'display', 'lat': 21.53356, 'lng': 39.1986}], 'postalCode': '23335', 'cc': 'SA', 'city': 'جدة', 'state': 'منطقة مكة', 'country': 'المملكة العربية السعودية', 'formattedAddress': ['جدة 23335', 'المملكة العربية السعودية']}\n",
      "{'lat': 21.533627860366934, 'lng': 39.19943788416107, 'labeledLatLngs': [{'label': 'display', 'lat': 21.533627860366934, 'lng': 39.19943788416107}], 'cc': 'SA', 'city': 'جدة', 'state': 'منطقة مكة', 'country': 'المملكة العربية السعودية', 'formattedAddress': ['جدة', 'المملكة العربية السعودية']}\n",
      "found 12 theaters\n"
     ]
    },
    {
     "data": {
      "text/html": [
       "<div>\n",
       "<style scoped>\n",
       "    .dataframe tbody tr th:only-of-type {\n",
       "        vertical-align: middle;\n",
       "    }\n",
       "\n",
       "    .dataframe tbody tr th {\n",
       "        vertical-align: top;\n",
       "    }\n",
       "\n",
       "    .dataframe thead th {\n",
       "        text-align: right;\n",
       "    }\n",
       "</style>\n",
       "<table border=\"1\" class=\"dataframe\">\n",
       "  <thead>\n",
       "    <tr style=\"text-align: right;\">\n",
       "      <th></th>\n",
       "      <th>uid</th>\n",
       "      <th>name</th>\n",
       "      <th>shortname</th>\n",
       "      <th>address</th>\n",
       "      <th>postalcode</th>\n",
       "      <th>lat</th>\n",
       "      <th>lng</th>\n",
       "    </tr>\n",
       "  </thead>\n",
       "  <tbody>\n",
       "    <tr>\n",
       "      <th>0</th>\n",
       "      <td>4f367de1e4b08f00986ceee5</td>\n",
       "      <td>العماري للأقمشة</td>\n",
       "      <td>Women's Store</td>\n",
       "      <td></td>\n",
       "      <td>21382</td>\n",
       "      <td>21.542389</td>\n",
       "      <td>39.197059</td>\n",
       "    </tr>\n",
       "    <tr>\n",
       "      <th>1</th>\n",
       "      <td>4dad957a6e81d745d7446f6b</td>\n",
       "      <td>Mobily Office (شارع غرناطة)</td>\n",
       "      <td>Office</td>\n",
       "      <td></td>\n",
       "      <td>11423</td>\n",
       "      <td>21.545246</td>\n",
       "      <td>39.195517</td>\n",
       "    </tr>\n",
       "    <tr>\n",
       "      <th>2</th>\n",
       "      <td>5bc31c5d9cadd9002c93b36a</td>\n",
       "      <td>Fitness Time Ladies</td>\n",
       "      <td>Gym / Fitness</td>\n",
       "      <td></td>\n",
       "      <td>23335</td>\n",
       "      <td>21.533439</td>\n",
       "      <td>39.196927</td>\n",
       "    </tr>\n",
       "    <tr>\n",
       "      <th>3</th>\n",
       "      <td>5e2bfa867ba3780008492ff4</td>\n",
       "      <td>Dunkin Donuts</td>\n",
       "      <td>Donuts</td>\n",
       "      <td></td>\n",
       "      <td>23333</td>\n",
       "      <td>21.546928</td>\n",
       "      <td>39.189711</td>\n",
       "    </tr>\n",
       "    <tr>\n",
       "      <th>4</th>\n",
       "      <td>5d1b568db55cb800239e28c5</td>\n",
       "      <td>Starbucks</td>\n",
       "      <td>Coffee Shop</td>\n",
       "      <td></td>\n",
       "      <td>23335</td>\n",
       "      <td>21.533474</td>\n",
       "      <td>39.196891</td>\n",
       "    </tr>\n",
       "  </tbody>\n",
       "</table>\n",
       "</div>"
      ],
      "text/plain": [
       "                        uid                         name      shortname  \\\n",
       "0  4f367de1e4b08f00986ceee5              العماري للأقمشة  Women's Store   \n",
       "1  4dad957a6e81d745d7446f6b  Mobily Office (شارع غرناطة)         Office   \n",
       "2  5bc31c5d9cadd9002c93b36a          Fitness Time Ladies  Gym / Fitness   \n",
       "3  5e2bfa867ba3780008492ff4                Dunkin Donuts         Donuts   \n",
       "4  5d1b568db55cb800239e28c5                    Starbucks    Coffee Shop   \n",
       "\n",
       "  address postalcode        lat        lng  \n",
       "0              21382  21.542389  39.197059  \n",
       "1              11423  21.545246  39.195517  \n",
       "2              23335  21.533439  39.196927  \n",
       "3              23333  21.546928  39.189711  \n",
       "4              23335  21.533474  39.196891  "
      ]
     },
     "execution_count": 13,
     "metadata": {},
     "output_type": "execute_result"
    }
   ],
   "source": [
    "df_raw = []\n",
    "for item in items:\n",
    "    venue = item[\"venue\"]\n",
    "    categories, uid, name, location = venue[\"categories\"], venue[\"id\"], venue[\"name\"], venue[\"location\"]\n",
    "    print(location)\n",
    "    assert len(categories) == 1\n",
    "    shortname = categories[0][\"shortName\"]\n",
    "    address =  ''\n",
    "    if hasattr(location, 'address'):\n",
    "      address = location['address']\n",
    "    if not \"postalCode\" in location:\n",
    "        continue\n",
    "    postalcode = location[\"postalCode\"]\n",
    "    lat = location[\"lat\"]\n",
    "    lng = location[\"lng\"]\n",
    "    datarow = (uid, name, shortname, address, postalcode, lat, lng)\n",
    "    df_raw.append(datarow)\n",
    "df = pd.DataFrame(df_raw, columns=[\"uid\", \"name\", \"shortname\", \"address\", \"postalcode\", \"lat\", \"lng\"])\n",
    "print(\"found %i theaters\" % len(df))\n",
    "df.head()"
   ]
  },
  {
   "cell_type": "code",
   "execution_count": 14,
   "id": "b9f2782c-3390-4ce8-ba8d-6fd1d9eae424",
   "metadata": {},
   "outputs": [
    {
     "data": {
      "text/plain": [
       "{'lat': 21.54238, 'lng': 39.19797}"
      ]
     },
     "execution_count": 14,
     "metadata": {},
     "output_type": "execute_result"
    }
   ],
   "source": [
    "Jeddah_center = d[\"geocode\"][\"center\"]\n",
    "Jeddah_center"
   ]
  },
  {
   "cell_type": "code",
   "execution_count": 15,
   "id": "5d312179-c0ac-4fe6-8fcd-f1548956faa6",
   "metadata": {},
   "outputs": [
    {
     "data": {
      "text/html": [
       "<div>\n",
       "<style scoped>\n",
       "    .dataframe tbody tr th:only-of-type {\n",
       "        vertical-align: middle;\n",
       "    }\n",
       "\n",
       "    .dataframe tbody tr th {\n",
       "        vertical-align: top;\n",
       "    }\n",
       "\n",
       "    .dataframe thead th {\n",
       "        text-align: right;\n",
       "    }\n",
       "</style>\n",
       "<table border=\"1\" class=\"dataframe\">\n",
       "  <thead>\n",
       "    <tr style=\"text-align: right;\">\n",
       "      <th></th>\n",
       "      <th>uid</th>\n",
       "      <th>name</th>\n",
       "      <th>shortname</th>\n",
       "      <th>address</th>\n",
       "      <th>postalcode</th>\n",
       "      <th>lat</th>\n",
       "      <th>lng</th>\n",
       "    </tr>\n",
       "  </thead>\n",
       "  <tbody>\n",
       "    <tr>\n",
       "      <th>0</th>\n",
       "      <td>4f367de1e4b08f00986ceee5</td>\n",
       "      <td>العماري للأقمشة</td>\n",
       "      <td>Women's Store</td>\n",
       "      <td></td>\n",
       "      <td>21382</td>\n",
       "      <td>21.542389</td>\n",
       "      <td>39.197059</td>\n",
       "    </tr>\n",
       "    <tr>\n",
       "      <th>1</th>\n",
       "      <td>4dad957a6e81d745d7446f6b</td>\n",
       "      <td>Mobily Office (شارع غرناطة)</td>\n",
       "      <td>Office</td>\n",
       "      <td></td>\n",
       "      <td>11423</td>\n",
       "      <td>21.545246</td>\n",
       "      <td>39.195517</td>\n",
       "    </tr>\n",
       "    <tr>\n",
       "      <th>2</th>\n",
       "      <td>5bc31c5d9cadd9002c93b36a</td>\n",
       "      <td>Fitness Time Ladies</td>\n",
       "      <td>Gym / Fitness</td>\n",
       "      <td></td>\n",
       "      <td>23335</td>\n",
       "      <td>21.533439</td>\n",
       "      <td>39.196927</td>\n",
       "    </tr>\n",
       "    <tr>\n",
       "      <th>3</th>\n",
       "      <td>5e2bfa867ba3780008492ff4</td>\n",
       "      <td>Dunkin Donuts</td>\n",
       "      <td>Donuts</td>\n",
       "      <td></td>\n",
       "      <td>23333</td>\n",
       "      <td>21.546928</td>\n",
       "      <td>39.189711</td>\n",
       "    </tr>\n",
       "    <tr>\n",
       "      <th>4</th>\n",
       "      <td>5d1b568db55cb800239e28c5</td>\n",
       "      <td>Starbucks</td>\n",
       "      <td>Coffee Shop</td>\n",
       "      <td></td>\n",
       "      <td>23335</td>\n",
       "      <td>21.533474</td>\n",
       "      <td>39.196891</td>\n",
       "    </tr>\n",
       "    <tr>\n",
       "      <th>5</th>\n",
       "      <td>5d94c741f3b98d0009009205</td>\n",
       "      <td>Dunkin Dounat</td>\n",
       "      <td>Donuts</td>\n",
       "      <td></td>\n",
       "      <td>23333</td>\n",
       "      <td>21.546753</td>\n",
       "      <td>39.189772</td>\n",
       "    </tr>\n",
       "    <tr>\n",
       "      <th>6</th>\n",
       "      <td>58126ff138fa9eb4bd5f6688</td>\n",
       "      <td>Abu Zaid Restaurant (مطاعم أبو زيد)</td>\n",
       "      <td>Diner</td>\n",
       "      <td></td>\n",
       "      <td>23335</td>\n",
       "      <td>21.534021</td>\n",
       "      <td>39.201100</td>\n",
       "    </tr>\n",
       "    <tr>\n",
       "      <th>7</th>\n",
       "      <td>4f6f7d22e4b0e3b3bed8b363</td>\n",
       "      <td>Ashwaq Resturant (مطعم أشواق)</td>\n",
       "      <td>Middle Eastern</td>\n",
       "      <td></td>\n",
       "      <td>23337</td>\n",
       "      <td>21.541838</td>\n",
       "      <td>39.190843</td>\n",
       "    </tr>\n",
       "    <tr>\n",
       "      <th>8</th>\n",
       "      <td>4d6fb08e56dea0936c66c38c</td>\n",
       "      <td>Al Sharq Shopping Center (مجمع الشرق التجاري)</td>\n",
       "      <td>Women's Store</td>\n",
       "      <td></td>\n",
       "      <td>21332</td>\n",
       "      <td>21.543123</td>\n",
       "      <td>39.197062</td>\n",
       "    </tr>\n",
       "    <tr>\n",
       "      <th>9</th>\n",
       "      <td>4f0c3e8ce4b0261c93fb881d</td>\n",
       "      <td>مطابخ ومطاعم السرور</td>\n",
       "      <td>Middle Eastern</td>\n",
       "      <td></td>\n",
       "      <td>321456</td>\n",
       "      <td>21.549167</td>\n",
       "      <td>39.194904</td>\n",
       "    </tr>\n",
       "    <tr>\n",
       "      <th>10</th>\n",
       "      <td>598c6a4a1bc7044f251d8f4c</td>\n",
       "      <td>مرسى الحضارم</td>\n",
       "      <td>Seafood</td>\n",
       "      <td></td>\n",
       "      <td>23335</td>\n",
       "      <td>21.534278</td>\n",
       "      <td>39.197908</td>\n",
       "    </tr>\n",
       "    <tr>\n",
       "      <th>11</th>\n",
       "      <td>58447a933f5a5c77a8c7a1e4</td>\n",
       "      <td>Al-Hamra'a Barbecue Rest. مطاعم مشويات الحمراء</td>\n",
       "      <td>Middle Eastern</td>\n",
       "      <td></td>\n",
       "      <td>23335</td>\n",
       "      <td>21.533560</td>\n",
       "      <td>39.198600</td>\n",
       "    </tr>\n",
       "  </tbody>\n",
       "</table>\n",
       "</div>"
      ],
      "text/plain": [
       "                         uid                                            name  \\\n",
       "0   4f367de1e4b08f00986ceee5                                 العماري للأقمشة   \n",
       "1   4dad957a6e81d745d7446f6b                     Mobily Office (شارع غرناطة)   \n",
       "2   5bc31c5d9cadd9002c93b36a                             Fitness Time Ladies   \n",
       "3   5e2bfa867ba3780008492ff4                                   Dunkin Donuts   \n",
       "4   5d1b568db55cb800239e28c5                                       Starbucks   \n",
       "5   5d94c741f3b98d0009009205                                   Dunkin Dounat   \n",
       "6   58126ff138fa9eb4bd5f6688             Abu Zaid Restaurant (مطاعم أبو زيد)   \n",
       "7   4f6f7d22e4b0e3b3bed8b363                   Ashwaq Resturant (مطعم أشواق)   \n",
       "8   4d6fb08e56dea0936c66c38c   Al Sharq Shopping Center (مجمع الشرق التجاري)   \n",
       "9   4f0c3e8ce4b0261c93fb881d                             مطابخ ومطاعم السرور   \n",
       "10  598c6a4a1bc7044f251d8f4c                                    مرسى الحضارم   \n",
       "11  58447a933f5a5c77a8c7a1e4  Al-Hamra'a Barbecue Rest. مطاعم مشويات الحمراء   \n",
       "\n",
       "         shortname address postalcode        lat        lng  \n",
       "0    Women's Store              21382  21.542389  39.197059  \n",
       "1           Office              11423  21.545246  39.195517  \n",
       "2    Gym / Fitness              23335  21.533439  39.196927  \n",
       "3           Donuts              23333  21.546928  39.189711  \n",
       "4      Coffee Shop              23335  21.533474  39.196891  \n",
       "5           Donuts              23333  21.546753  39.189772  \n",
       "6            Diner              23335  21.534021  39.201100  \n",
       "7   Middle Eastern              23337  21.541838  39.190843  \n",
       "8    Women's Store              21332  21.543123  39.197062  \n",
       "9   Middle Eastern             321456  21.549167  39.194904  \n",
       "10         Seafood              23335  21.534278  39.197908  \n",
       "11  Middle Eastern              23335  21.533560  39.198600  "
      ]
     },
     "execution_count": 15,
     "metadata": {},
     "output_type": "execute_result"
    }
   ],
   "source": [
    "df.head(20)"
   ]
  },
  {
   "cell_type": "code",
   "execution_count": 16,
   "id": "6670a82e-5689-45ae-ab0d-bd21546f76e3",
   "metadata": {},
   "outputs": [
    {
     "data": {
      "text/html": [
       "<div style=\"width:100%;\"><div style=\"position:relative;width:100%;height:0;padding-bottom:60%;\"><span style=\"color:#565656\">Make this Notebook Trusted to load map: File -> Trust Notebook</span><iframe src=\"about:blank\" style=\"position:absolute;width:100%;height:100%;left:0;top:0;border:none !important;\" data-html=%3C%21DOCTYPE%20html%3E%0A%3Chead%3E%20%20%20%20%0A%20%20%20%20%3Cmeta%20http-equiv%3D%22content-type%22%20content%3D%22text/html%3B%20charset%3DUTF-8%22%20/%3E%0A%20%20%20%20%3Cscript%3EL_PREFER_CANVAS%20%3D%20false%3B%20L_NO_TOUCH%20%3D%20false%3B%20L_DISABLE_3D%20%3D%20false%3B%3C/script%3E%0A%20%20%20%20%3Cscript%20src%3D%22https%3A//cdn.jsdelivr.net/npm/leaflet%401.2.0/dist/leaflet.js%22%3E%3C/script%3E%0A%20%20%20%20%3Cscript%20src%3D%22https%3A//ajax.googleapis.com/ajax/libs/jquery/1.11.1/jquery.min.js%22%3E%3C/script%3E%0A%20%20%20%20%3Cscript%20src%3D%22https%3A//maxcdn.bootstrapcdn.com/bootstrap/3.2.0/js/bootstrap.min.js%22%3E%3C/script%3E%0A%20%20%20%20%3Cscript%20src%3D%22https%3A//cdnjs.cloudflare.com/ajax/libs/Leaflet.awesome-markers/2.0.2/leaflet.awesome-markers.js%22%3E%3C/script%3E%0A%20%20%20%20%3Clink%20rel%3D%22stylesheet%22%20href%3D%22https%3A//cdn.jsdelivr.net/npm/leaflet%401.2.0/dist/leaflet.css%22/%3E%0A%20%20%20%20%3Clink%20rel%3D%22stylesheet%22%20href%3D%22https%3A//maxcdn.bootstrapcdn.com/bootstrap/3.2.0/css/bootstrap.min.css%22/%3E%0A%20%20%20%20%3Clink%20rel%3D%22stylesheet%22%20href%3D%22https%3A//maxcdn.bootstrapcdn.com/bootstrap/3.2.0/css/bootstrap-theme.min.css%22/%3E%0A%20%20%20%20%3Clink%20rel%3D%22stylesheet%22%20href%3D%22https%3A//maxcdn.bootstrapcdn.com/font-awesome/4.6.3/css/font-awesome.min.css%22/%3E%0A%20%20%20%20%3Clink%20rel%3D%22stylesheet%22%20href%3D%22https%3A//cdnjs.cloudflare.com/ajax/libs/Leaflet.awesome-markers/2.0.2/leaflet.awesome-markers.css%22/%3E%0A%20%20%20%20%3Clink%20rel%3D%22stylesheet%22%20href%3D%22https%3A//rawgit.com/python-visualization/folium/master/folium/templates/leaflet.awesome.rotate.css%22/%3E%0A%20%20%20%20%3Cstyle%3Ehtml%2C%20body%20%7Bwidth%3A%20100%25%3Bheight%3A%20100%25%3Bmargin%3A%200%3Bpadding%3A%200%3B%7D%3C/style%3E%0A%20%20%20%20%3Cstyle%3E%23map%20%7Bposition%3Aabsolute%3Btop%3A0%3Bbottom%3A0%3Bright%3A0%3Bleft%3A0%3B%7D%3C/style%3E%0A%20%20%20%20%0A%20%20%20%20%20%20%20%20%20%20%20%20%3Cstyle%3E%20%23map_c5eee616582c4e61a3fa32159a8d06da%20%7B%0A%20%20%20%20%20%20%20%20%20%20%20%20%20%20%20%20position%20%3A%20relative%3B%0A%20%20%20%20%20%20%20%20%20%20%20%20%20%20%20%20width%20%3A%20100.0%25%3B%0A%20%20%20%20%20%20%20%20%20%20%20%20%20%20%20%20height%3A%20100.0%25%3B%0A%20%20%20%20%20%20%20%20%20%20%20%20%20%20%20%20left%3A%200.0%25%3B%0A%20%20%20%20%20%20%20%20%20%20%20%20%20%20%20%20top%3A%200.0%25%3B%0A%20%20%20%20%20%20%20%20%20%20%20%20%20%20%20%20%7D%0A%20%20%20%20%20%20%20%20%20%20%20%20%3C/style%3E%0A%20%20%20%20%20%20%20%20%0A%20%20%20%20%3Cscript%20src%3D%22https%3A//leaflet.github.io/Leaflet.heat/dist/leaflet-heat.js%22%3E%3C/script%3E%0A%3C/head%3E%0A%3Cbody%3E%20%20%20%20%0A%20%20%20%20%0A%20%20%20%20%20%20%20%20%20%20%20%20%3Cdiv%20class%3D%22folium-map%22%20id%3D%22map_c5eee616582c4e61a3fa32159a8d06da%22%20%3E%3C/div%3E%0A%20%20%20%20%20%20%20%20%0A%3C/body%3E%0A%3Cscript%3E%20%20%20%20%0A%20%20%20%20%0A%0A%20%20%20%20%20%20%20%20%20%20%20%20%0A%20%20%20%20%20%20%20%20%20%20%20%20%20%20%20%20var%20bounds%20%3D%20null%3B%0A%20%20%20%20%20%20%20%20%20%20%20%20%0A%0A%20%20%20%20%20%20%20%20%20%20%20%20var%20map_c5eee616582c4e61a3fa32159a8d06da%20%3D%20L.map%28%0A%20%20%20%20%20%20%20%20%20%20%20%20%20%20%20%20%20%20%20%20%20%20%20%20%20%20%20%20%20%20%20%20%20%20%27map_c5eee616582c4e61a3fa32159a8d06da%27%2C%0A%20%20%20%20%20%20%20%20%20%20%20%20%20%20%20%20%20%20%20%20%20%20%20%20%20%20%20%20%20%20%20%20%20%20%7Bcenter%3A%20%5B21.54238%2C39.19797%5D%2C%0A%20%20%20%20%20%20%20%20%20%20%20%20%20%20%20%20%20%20%20%20%20%20%20%20%20%20%20%20%20%20%20%20%20%20zoom%3A%2014%2C%0A%20%20%20%20%20%20%20%20%20%20%20%20%20%20%20%20%20%20%20%20%20%20%20%20%20%20%20%20%20%20%20%20%20%20maxBounds%3A%20bounds%2C%0A%20%20%20%20%20%20%20%20%20%20%20%20%20%20%20%20%20%20%20%20%20%20%20%20%20%20%20%20%20%20%20%20%20%20layers%3A%20%5B%5D%2C%0A%20%20%20%20%20%20%20%20%20%20%20%20%20%20%20%20%20%20%20%20%20%20%20%20%20%20%20%20%20%20%20%20%20%20worldCopyJump%3A%20false%2C%0A%20%20%20%20%20%20%20%20%20%20%20%20%20%20%20%20%20%20%20%20%20%20%20%20%20%20%20%20%20%20%20%20%20%20crs%3A%20L.CRS.EPSG3857%0A%20%20%20%20%20%20%20%20%20%20%20%20%20%20%20%20%20%20%20%20%20%20%20%20%20%20%20%20%20%20%20%20%20%7D%29%3B%0A%20%20%20%20%20%20%20%20%20%20%20%20%0A%20%20%20%20%20%20%20%20%0A%20%20%20%20%0A%20%20%20%20%20%20%20%20%20%20%20%20var%20tile_layer_a48dc4e11c6243ff83029d0934b761b1%20%3D%20L.tileLayer%28%0A%20%20%20%20%20%20%20%20%20%20%20%20%20%20%20%20%27https%3A//%7Bs%7D.tile.openstreetmap.org/%7Bz%7D/%7Bx%7D/%7By%7D.png%27%2C%0A%20%20%20%20%20%20%20%20%20%20%20%20%20%20%20%20%7B%0A%20%20%22attribution%22%3A%20null%2C%0A%20%20%22detectRetina%22%3A%20false%2C%0A%20%20%22maxZoom%22%3A%2018%2C%0A%20%20%22minZoom%22%3A%201%2C%0A%20%20%22noWrap%22%3A%20false%2C%0A%20%20%22subdomains%22%3A%20%22abc%22%0A%7D%0A%20%20%20%20%20%20%20%20%20%20%20%20%20%20%20%20%29.addTo%28map_c5eee616582c4e61a3fa32159a8d06da%29%3B%0A%20%20%20%20%20%20%20%20%0A%20%20%20%20%0A%20%20%20%20%20%20%20%20%20%20%20%20var%20circle_marker_1f9925acfe2b42ea9421edb3e0bb422c%20%3D%20L.circleMarker%28%0A%20%20%20%20%20%20%20%20%20%20%20%20%20%20%20%20%5B21.542388997135777%2C39.197059467440354%5D%2C%0A%20%20%20%20%20%20%20%20%20%20%20%20%20%20%20%20%7B%0A%20%20%22bubblingMouseEvents%22%3A%20true%2C%0A%20%20%22color%22%3A%20%22red%22%2C%0A%20%20%22dashArray%22%3A%20null%2C%0A%20%20%22dashOffset%22%3A%20null%2C%0A%20%20%22fill%22%3A%20true%2C%0A%20%20%22fillColor%22%3A%20%22%233186cc%22%2C%0A%20%20%22fillOpacity%22%3A%200.7%2C%0A%20%20%22fillRule%22%3A%20%22evenodd%22%2C%0A%20%20%22lineCap%22%3A%20%22round%22%2C%0A%20%20%22lineJoin%22%3A%20%22round%22%2C%0A%20%20%22opacity%22%3A%201.0%2C%0A%20%20%22radius%22%3A%205%2C%0A%20%20%22stroke%22%3A%20true%2C%0A%20%20%22weight%22%3A%203%0A%7D%0A%20%20%20%20%20%20%20%20%20%20%20%20%20%20%20%20%29.addTo%28map_c5eee616582c4e61a3fa32159a8d06da%29%3B%0A%20%20%20%20%20%20%20%20%20%20%20%20%0A%20%20%20%20%0A%20%20%20%20%20%20%20%20%20%20%20%20var%20popup_b478e9341e764c3198a387b50c26c0b0%20%3D%20L.popup%28%7BmaxWidth%3A%20%27300%27%7D%29%3B%0A%0A%20%20%20%20%20%20%20%20%20%20%20%20%0A%20%20%20%20%20%20%20%20%20%20%20%20%20%20%20%20var%20html_1e1c3061b86043ad90665bbade2cc643%20%3D%20%24%28%27%3Cdiv%20id%3D%22html_1e1c3061b86043ad90665bbade2cc643%22%20style%3D%22width%3A%20100.0%25%3B%20height%3A%20100.0%25%3B%22%3E%D8%A7%D9%84%D8%B9%D9%85%D8%A7%D8%B1%D9%8A%20%D9%84%D9%84%D8%A3%D9%82%D9%85%D8%B4%D8%A9%3C/div%3E%27%29%5B0%5D%3B%0A%20%20%20%20%20%20%20%20%20%20%20%20%20%20%20%20popup_b478e9341e764c3198a387b50c26c0b0.setContent%28html_1e1c3061b86043ad90665bbade2cc643%29%3B%0A%20%20%20%20%20%20%20%20%20%20%20%20%0A%0A%20%20%20%20%20%20%20%20%20%20%20%20circle_marker_1f9925acfe2b42ea9421edb3e0bb422c.bindPopup%28popup_b478e9341e764c3198a387b50c26c0b0%29%3B%0A%0A%20%20%20%20%20%20%20%20%20%20%20%20%0A%20%20%20%20%20%20%20%20%0A%20%20%20%20%0A%20%20%20%20%20%20%20%20%20%20%20%20var%20circle_marker_63b42865120b488cb6090a307d205c78%20%3D%20L.circleMarker%28%0A%20%20%20%20%20%20%20%20%20%20%20%20%20%20%20%20%5B21.54524568978464%2C39.19551730155945%5D%2C%0A%20%20%20%20%20%20%20%20%20%20%20%20%20%20%20%20%7B%0A%20%20%22bubblingMouseEvents%22%3A%20true%2C%0A%20%20%22color%22%3A%20%22red%22%2C%0A%20%20%22dashArray%22%3A%20null%2C%0A%20%20%22dashOffset%22%3A%20null%2C%0A%20%20%22fill%22%3A%20true%2C%0A%20%20%22fillColor%22%3A%20%22%233186cc%22%2C%0A%20%20%22fillOpacity%22%3A%200.7%2C%0A%20%20%22fillRule%22%3A%20%22evenodd%22%2C%0A%20%20%22lineCap%22%3A%20%22round%22%2C%0A%20%20%22lineJoin%22%3A%20%22round%22%2C%0A%20%20%22opacity%22%3A%201.0%2C%0A%20%20%22radius%22%3A%205%2C%0A%20%20%22stroke%22%3A%20true%2C%0A%20%20%22weight%22%3A%203%0A%7D%0A%20%20%20%20%20%20%20%20%20%20%20%20%20%20%20%20%29.addTo%28map_c5eee616582c4e61a3fa32159a8d06da%29%3B%0A%20%20%20%20%20%20%20%20%20%20%20%20%0A%20%20%20%20%0A%20%20%20%20%20%20%20%20%20%20%20%20var%20popup_11c3208ef0444c75a987d8fa33e8bbc0%20%3D%20L.popup%28%7BmaxWidth%3A%20%27300%27%7D%29%3B%0A%0A%20%20%20%20%20%20%20%20%20%20%20%20%0A%20%20%20%20%20%20%20%20%20%20%20%20%20%20%20%20var%20html_cb98cd6dc7ec40c9b425d4bb4a639eb9%20%3D%20%24%28%27%3Cdiv%20id%3D%22html_cb98cd6dc7ec40c9b425d4bb4a639eb9%22%20style%3D%22width%3A%20100.0%25%3B%20height%3A%20100.0%25%3B%22%3EMobily%20Office%20%28%D8%B4%D8%A7%D8%B1%D8%B9%20%D8%BA%D8%B1%D9%86%D8%A7%D8%B7%D8%A9%29%3C/div%3E%27%29%5B0%5D%3B%0A%20%20%20%20%20%20%20%20%20%20%20%20%20%20%20%20popup_11c3208ef0444c75a987d8fa33e8bbc0.setContent%28html_cb98cd6dc7ec40c9b425d4bb4a639eb9%29%3B%0A%20%20%20%20%20%20%20%20%20%20%20%20%0A%0A%20%20%20%20%20%20%20%20%20%20%20%20circle_marker_63b42865120b488cb6090a307d205c78.bindPopup%28popup_11c3208ef0444c75a987d8fa33e8bbc0%29%3B%0A%0A%20%20%20%20%20%20%20%20%20%20%20%20%0A%20%20%20%20%20%20%20%20%0A%20%20%20%20%0A%20%20%20%20%20%20%20%20%20%20%20%20var%20circle_marker_83c06debd4d24defb77d9524e44db866%20%3D%20L.circleMarker%28%0A%20%20%20%20%20%20%20%20%20%20%20%20%20%20%20%20%5B21.533438623559338%2C39.19692726409651%5D%2C%0A%20%20%20%20%20%20%20%20%20%20%20%20%20%20%20%20%7B%0A%20%20%22bubblingMouseEvents%22%3A%20true%2C%0A%20%20%22color%22%3A%20%22red%22%2C%0A%20%20%22dashArray%22%3A%20null%2C%0A%20%20%22dashOffset%22%3A%20null%2C%0A%20%20%22fill%22%3A%20true%2C%0A%20%20%22fillColor%22%3A%20%22%233186cc%22%2C%0A%20%20%22fillOpacity%22%3A%200.7%2C%0A%20%20%22fillRule%22%3A%20%22evenodd%22%2C%0A%20%20%22lineCap%22%3A%20%22round%22%2C%0A%20%20%22lineJoin%22%3A%20%22round%22%2C%0A%20%20%22opacity%22%3A%201.0%2C%0A%20%20%22radius%22%3A%205%2C%0A%20%20%22stroke%22%3A%20true%2C%0A%20%20%22weight%22%3A%203%0A%7D%0A%20%20%20%20%20%20%20%20%20%20%20%20%20%20%20%20%29.addTo%28map_c5eee616582c4e61a3fa32159a8d06da%29%3B%0A%20%20%20%20%20%20%20%20%20%20%20%20%0A%20%20%20%20%0A%20%20%20%20%20%20%20%20%20%20%20%20var%20popup_08d6821f00be4f49a54633feda995e32%20%3D%20L.popup%28%7BmaxWidth%3A%20%27300%27%7D%29%3B%0A%0A%20%20%20%20%20%20%20%20%20%20%20%20%0A%20%20%20%20%20%20%20%20%20%20%20%20%20%20%20%20var%20html_5d76ef765c93425fb8d05cef7cc35872%20%3D%20%24%28%27%3Cdiv%20id%3D%22html_5d76ef765c93425fb8d05cef7cc35872%22%20style%3D%22width%3A%20100.0%25%3B%20height%3A%20100.0%25%3B%22%3EFitness%20Time%20Ladies%3C/div%3E%27%29%5B0%5D%3B%0A%20%20%20%20%20%20%20%20%20%20%20%20%20%20%20%20popup_08d6821f00be4f49a54633feda995e32.setContent%28html_5d76ef765c93425fb8d05cef7cc35872%29%3B%0A%20%20%20%20%20%20%20%20%20%20%20%20%0A%0A%20%20%20%20%20%20%20%20%20%20%20%20circle_marker_83c06debd4d24defb77d9524e44db866.bindPopup%28popup_08d6821f00be4f49a54633feda995e32%29%3B%0A%0A%20%20%20%20%20%20%20%20%20%20%20%20%0A%20%20%20%20%20%20%20%20%0A%20%20%20%20%0A%20%20%20%20%20%20%20%20%20%20%20%20var%20circle_marker_94a79778eeac47a09db84fddfa96e15b%20%3D%20L.circleMarker%28%0A%20%20%20%20%20%20%20%20%20%20%20%20%20%20%20%20%5B21.546928%2C39.189711%5D%2C%0A%20%20%20%20%20%20%20%20%20%20%20%20%20%20%20%20%7B%0A%20%20%22bubblingMouseEvents%22%3A%20true%2C%0A%20%20%22color%22%3A%20%22red%22%2C%0A%20%20%22dashArray%22%3A%20null%2C%0A%20%20%22dashOffset%22%3A%20null%2C%0A%20%20%22fill%22%3A%20true%2C%0A%20%20%22fillColor%22%3A%20%22%233186cc%22%2C%0A%20%20%22fillOpacity%22%3A%200.7%2C%0A%20%20%22fillRule%22%3A%20%22evenodd%22%2C%0A%20%20%22lineCap%22%3A%20%22round%22%2C%0A%20%20%22lineJoin%22%3A%20%22round%22%2C%0A%20%20%22opacity%22%3A%201.0%2C%0A%20%20%22radius%22%3A%205%2C%0A%20%20%22stroke%22%3A%20true%2C%0A%20%20%22weight%22%3A%203%0A%7D%0A%20%20%20%20%20%20%20%20%20%20%20%20%20%20%20%20%29.addTo%28map_c5eee616582c4e61a3fa32159a8d06da%29%3B%0A%20%20%20%20%20%20%20%20%20%20%20%20%0A%20%20%20%20%0A%20%20%20%20%20%20%20%20%20%20%20%20var%20popup_4e4ee6276ed64bb9b47e3637c730ec36%20%3D%20L.popup%28%7BmaxWidth%3A%20%27300%27%7D%29%3B%0A%0A%20%20%20%20%20%20%20%20%20%20%20%20%0A%20%20%20%20%20%20%20%20%20%20%20%20%20%20%20%20var%20html_7546812f72ac43abaa88464153f444bc%20%3D%20%24%28%27%3Cdiv%20id%3D%22html_7546812f72ac43abaa88464153f444bc%22%20style%3D%22width%3A%20100.0%25%3B%20height%3A%20100.0%25%3B%22%3EDunkin%20Donuts%3C/div%3E%27%29%5B0%5D%3B%0A%20%20%20%20%20%20%20%20%20%20%20%20%20%20%20%20popup_4e4ee6276ed64bb9b47e3637c730ec36.setContent%28html_7546812f72ac43abaa88464153f444bc%29%3B%0A%20%20%20%20%20%20%20%20%20%20%20%20%0A%0A%20%20%20%20%20%20%20%20%20%20%20%20circle_marker_94a79778eeac47a09db84fddfa96e15b.bindPopup%28popup_4e4ee6276ed64bb9b47e3637c730ec36%29%3B%0A%0A%20%20%20%20%20%20%20%20%20%20%20%20%0A%20%20%20%20%20%20%20%20%0A%20%20%20%20%0A%20%20%20%20%20%20%20%20%20%20%20%20var%20circle_marker_92a1fc74effd47b3bdef87c55539145e%20%3D%20L.circleMarker%28%0A%20%20%20%20%20%20%20%20%20%20%20%20%20%20%20%20%5B21.533474%2C39.196891%5D%2C%0A%20%20%20%20%20%20%20%20%20%20%20%20%20%20%20%20%7B%0A%20%20%22bubblingMouseEvents%22%3A%20true%2C%0A%20%20%22color%22%3A%20%22red%22%2C%0A%20%20%22dashArray%22%3A%20null%2C%0A%20%20%22dashOffset%22%3A%20null%2C%0A%20%20%22fill%22%3A%20true%2C%0A%20%20%22fillColor%22%3A%20%22%233186cc%22%2C%0A%20%20%22fillOpacity%22%3A%200.7%2C%0A%20%20%22fillRule%22%3A%20%22evenodd%22%2C%0A%20%20%22lineCap%22%3A%20%22round%22%2C%0A%20%20%22lineJoin%22%3A%20%22round%22%2C%0A%20%20%22opacity%22%3A%201.0%2C%0A%20%20%22radius%22%3A%205%2C%0A%20%20%22stroke%22%3A%20true%2C%0A%20%20%22weight%22%3A%203%0A%7D%0A%20%20%20%20%20%20%20%20%20%20%20%20%20%20%20%20%29.addTo%28map_c5eee616582c4e61a3fa32159a8d06da%29%3B%0A%20%20%20%20%20%20%20%20%20%20%20%20%0A%20%20%20%20%0A%20%20%20%20%20%20%20%20%20%20%20%20var%20popup_d5d8d70f01904360928665f6a1e70104%20%3D%20L.popup%28%7BmaxWidth%3A%20%27300%27%7D%29%3B%0A%0A%20%20%20%20%20%20%20%20%20%20%20%20%0A%20%20%20%20%20%20%20%20%20%20%20%20%20%20%20%20var%20html_274cae7ede54482e9f3bf6e23456fd01%20%3D%20%24%28%27%3Cdiv%20id%3D%22html_274cae7ede54482e9f3bf6e23456fd01%22%20style%3D%22width%3A%20100.0%25%3B%20height%3A%20100.0%25%3B%22%3EStarbucks%3C/div%3E%27%29%5B0%5D%3B%0A%20%20%20%20%20%20%20%20%20%20%20%20%20%20%20%20popup_d5d8d70f01904360928665f6a1e70104.setContent%28html_274cae7ede54482e9f3bf6e23456fd01%29%3B%0A%20%20%20%20%20%20%20%20%20%20%20%20%0A%0A%20%20%20%20%20%20%20%20%20%20%20%20circle_marker_92a1fc74effd47b3bdef87c55539145e.bindPopup%28popup_d5d8d70f01904360928665f6a1e70104%29%3B%0A%0A%20%20%20%20%20%20%20%20%20%20%20%20%0A%20%20%20%20%20%20%20%20%0A%20%20%20%20%0A%20%20%20%20%20%20%20%20%20%20%20%20var%20circle_marker_e7a1f9b70d224d54b765a65612d64aa5%20%3D%20L.circleMarker%28%0A%20%20%20%20%20%20%20%20%20%20%20%20%20%20%20%20%5B21.546753%2C39.189772%5D%2C%0A%20%20%20%20%20%20%20%20%20%20%20%20%20%20%20%20%7B%0A%20%20%22bubblingMouseEvents%22%3A%20true%2C%0A%20%20%22color%22%3A%20%22red%22%2C%0A%20%20%22dashArray%22%3A%20null%2C%0A%20%20%22dashOffset%22%3A%20null%2C%0A%20%20%22fill%22%3A%20true%2C%0A%20%20%22fillColor%22%3A%20%22%233186cc%22%2C%0A%20%20%22fillOpacity%22%3A%200.7%2C%0A%20%20%22fillRule%22%3A%20%22evenodd%22%2C%0A%20%20%22lineCap%22%3A%20%22round%22%2C%0A%20%20%22lineJoin%22%3A%20%22round%22%2C%0A%20%20%22opacity%22%3A%201.0%2C%0A%20%20%22radius%22%3A%205%2C%0A%20%20%22stroke%22%3A%20true%2C%0A%20%20%22weight%22%3A%203%0A%7D%0A%20%20%20%20%20%20%20%20%20%20%20%20%20%20%20%20%29.addTo%28map_c5eee616582c4e61a3fa32159a8d06da%29%3B%0A%20%20%20%20%20%20%20%20%20%20%20%20%0A%20%20%20%20%0A%20%20%20%20%20%20%20%20%20%20%20%20var%20popup_d0f07f04e5d540bca0c2a2f254f88e03%20%3D%20L.popup%28%7BmaxWidth%3A%20%27300%27%7D%29%3B%0A%0A%20%20%20%20%20%20%20%20%20%20%20%20%0A%20%20%20%20%20%20%20%20%20%20%20%20%20%20%20%20var%20html_873d21963bac4ebabbf4ab361195abfe%20%3D%20%24%28%27%3Cdiv%20id%3D%22html_873d21963bac4ebabbf4ab361195abfe%22%20style%3D%22width%3A%20100.0%25%3B%20height%3A%20100.0%25%3B%22%3EDunkin%20Dounat%3C/div%3E%27%29%5B0%5D%3B%0A%20%20%20%20%20%20%20%20%20%20%20%20%20%20%20%20popup_d0f07f04e5d540bca0c2a2f254f88e03.setContent%28html_873d21963bac4ebabbf4ab361195abfe%29%3B%0A%20%20%20%20%20%20%20%20%20%20%20%20%0A%0A%20%20%20%20%20%20%20%20%20%20%20%20circle_marker_e7a1f9b70d224d54b765a65612d64aa5.bindPopup%28popup_d0f07f04e5d540bca0c2a2f254f88e03%29%3B%0A%0A%20%20%20%20%20%20%20%20%20%20%20%20%0A%20%20%20%20%20%20%20%20%0A%20%20%20%20%0A%20%20%20%20%20%20%20%20%20%20%20%20var%20circle_marker_0989ad1339f64e3eab24e671325c78bb%20%3D%20L.circleMarker%28%0A%20%20%20%20%20%20%20%20%20%20%20%20%20%20%20%20%5B21.534021498000822%2C39.20109969145246%5D%2C%0A%20%20%20%20%20%20%20%20%20%20%20%20%20%20%20%20%7B%0A%20%20%22bubblingMouseEvents%22%3A%20true%2C%0A%20%20%22color%22%3A%20%22red%22%2C%0A%20%20%22dashArray%22%3A%20null%2C%0A%20%20%22dashOffset%22%3A%20null%2C%0A%20%20%22fill%22%3A%20true%2C%0A%20%20%22fillColor%22%3A%20%22%233186cc%22%2C%0A%20%20%22fillOpacity%22%3A%200.7%2C%0A%20%20%22fillRule%22%3A%20%22evenodd%22%2C%0A%20%20%22lineCap%22%3A%20%22round%22%2C%0A%20%20%22lineJoin%22%3A%20%22round%22%2C%0A%20%20%22opacity%22%3A%201.0%2C%0A%20%20%22radius%22%3A%205%2C%0A%20%20%22stroke%22%3A%20true%2C%0A%20%20%22weight%22%3A%203%0A%7D%0A%20%20%20%20%20%20%20%20%20%20%20%20%20%20%20%20%29.addTo%28map_c5eee616582c4e61a3fa32159a8d06da%29%3B%0A%20%20%20%20%20%20%20%20%20%20%20%20%0A%20%20%20%20%0A%20%20%20%20%20%20%20%20%20%20%20%20var%20popup_9ed1be69038e4545bc1c23e7cd120030%20%3D%20L.popup%28%7BmaxWidth%3A%20%27300%27%7D%29%3B%0A%0A%20%20%20%20%20%20%20%20%20%20%20%20%0A%20%20%20%20%20%20%20%20%20%20%20%20%20%20%20%20var%20html_e97819aa7f0844639eed7c84fea7e2cc%20%3D%20%24%28%27%3Cdiv%20id%3D%22html_e97819aa7f0844639eed7c84fea7e2cc%22%20style%3D%22width%3A%20100.0%25%3B%20height%3A%20100.0%25%3B%22%3EAbu%20Zaid%20Restaurant%20%28%D9%85%D8%B7%D8%A7%D8%B9%D9%85%20%D8%A3%D8%A8%D9%88%20%D8%B2%D9%8A%D8%AF%29%3C/div%3E%27%29%5B0%5D%3B%0A%20%20%20%20%20%20%20%20%20%20%20%20%20%20%20%20popup_9ed1be69038e4545bc1c23e7cd120030.setContent%28html_e97819aa7f0844639eed7c84fea7e2cc%29%3B%0A%20%20%20%20%20%20%20%20%20%20%20%20%0A%0A%20%20%20%20%20%20%20%20%20%20%20%20circle_marker_0989ad1339f64e3eab24e671325c78bb.bindPopup%28popup_9ed1be69038e4545bc1c23e7cd120030%29%3B%0A%0A%20%20%20%20%20%20%20%20%20%20%20%20%0A%20%20%20%20%20%20%20%20%0A%20%20%20%20%0A%20%20%20%20%20%20%20%20%20%20%20%20var%20circle_marker_27a83be5b6a5446385265fb3ad18cc33%20%3D%20L.circleMarker%28%0A%20%20%20%20%20%20%20%20%20%20%20%20%20%20%20%20%5B21.541838252197962%2C39.190843293372474%5D%2C%0A%20%20%20%20%20%20%20%20%20%20%20%20%20%20%20%20%7B%0A%20%20%22bubblingMouseEvents%22%3A%20true%2C%0A%20%20%22color%22%3A%20%22red%22%2C%0A%20%20%22dashArray%22%3A%20null%2C%0A%20%20%22dashOffset%22%3A%20null%2C%0A%20%20%22fill%22%3A%20true%2C%0A%20%20%22fillColor%22%3A%20%22%233186cc%22%2C%0A%20%20%22fillOpacity%22%3A%200.7%2C%0A%20%20%22fillRule%22%3A%20%22evenodd%22%2C%0A%20%20%22lineCap%22%3A%20%22round%22%2C%0A%20%20%22lineJoin%22%3A%20%22round%22%2C%0A%20%20%22opacity%22%3A%201.0%2C%0A%20%20%22radius%22%3A%205%2C%0A%20%20%22stroke%22%3A%20true%2C%0A%20%20%22weight%22%3A%203%0A%7D%0A%20%20%20%20%20%20%20%20%20%20%20%20%20%20%20%20%29.addTo%28map_c5eee616582c4e61a3fa32159a8d06da%29%3B%0A%20%20%20%20%20%20%20%20%20%20%20%20%0A%20%20%20%20%0A%20%20%20%20%20%20%20%20%20%20%20%20var%20popup_f6afa02aee2e4901b69be1a706502e4b%20%3D%20L.popup%28%7BmaxWidth%3A%20%27300%27%7D%29%3B%0A%0A%20%20%20%20%20%20%20%20%20%20%20%20%0A%20%20%20%20%20%20%20%20%20%20%20%20%20%20%20%20var%20html_ff2c74134122469aa0937335a90ca9cf%20%3D%20%24%28%27%3Cdiv%20id%3D%22html_ff2c74134122469aa0937335a90ca9cf%22%20style%3D%22width%3A%20100.0%25%3B%20height%3A%20100.0%25%3B%22%3EAshwaq%20Resturant%20%28%D9%85%D8%B7%D8%B9%D9%85%20%D8%A3%D8%B4%D9%88%D8%A7%D9%82%29%3C/div%3E%27%29%5B0%5D%3B%0A%20%20%20%20%20%20%20%20%20%20%20%20%20%20%20%20popup_f6afa02aee2e4901b69be1a706502e4b.setContent%28html_ff2c74134122469aa0937335a90ca9cf%29%3B%0A%20%20%20%20%20%20%20%20%20%20%20%20%0A%0A%20%20%20%20%20%20%20%20%20%20%20%20circle_marker_27a83be5b6a5446385265fb3ad18cc33.bindPopup%28popup_f6afa02aee2e4901b69be1a706502e4b%29%3B%0A%0A%20%20%20%20%20%20%20%20%20%20%20%20%0A%20%20%20%20%20%20%20%20%0A%20%20%20%20%0A%20%20%20%20%20%20%20%20%20%20%20%20var%20circle_marker_6aed93b1085c4416bcc2cc2764103014%20%3D%20L.circleMarker%28%0A%20%20%20%20%20%20%20%20%20%20%20%20%20%20%20%20%5B21.543123078008726%2C39.1970618930079%5D%2C%0A%20%20%20%20%20%20%20%20%20%20%20%20%20%20%20%20%7B%0A%20%20%22bubblingMouseEvents%22%3A%20true%2C%0A%20%20%22color%22%3A%20%22red%22%2C%0A%20%20%22dashArray%22%3A%20null%2C%0A%20%20%22dashOffset%22%3A%20null%2C%0A%20%20%22fill%22%3A%20true%2C%0A%20%20%22fillColor%22%3A%20%22%233186cc%22%2C%0A%20%20%22fillOpacity%22%3A%200.7%2C%0A%20%20%22fillRule%22%3A%20%22evenodd%22%2C%0A%20%20%22lineCap%22%3A%20%22round%22%2C%0A%20%20%22lineJoin%22%3A%20%22round%22%2C%0A%20%20%22opacity%22%3A%201.0%2C%0A%20%20%22radius%22%3A%205%2C%0A%20%20%22stroke%22%3A%20true%2C%0A%20%20%22weight%22%3A%203%0A%7D%0A%20%20%20%20%20%20%20%20%20%20%20%20%20%20%20%20%29.addTo%28map_c5eee616582c4e61a3fa32159a8d06da%29%3B%0A%20%20%20%20%20%20%20%20%20%20%20%20%0A%20%20%20%20%0A%20%20%20%20%20%20%20%20%20%20%20%20var%20popup_70d9923c6e2c417698451a5850c1001d%20%3D%20L.popup%28%7BmaxWidth%3A%20%27300%27%7D%29%3B%0A%0A%20%20%20%20%20%20%20%20%20%20%20%20%0A%20%20%20%20%20%20%20%20%20%20%20%20%20%20%20%20var%20html_1784057d47804d6b9a4c3124abd1a3b0%20%3D%20%24%28%27%3Cdiv%20id%3D%22html_1784057d47804d6b9a4c3124abd1a3b0%22%20style%3D%22width%3A%20100.0%25%3B%20height%3A%20100.0%25%3B%22%3EAl%20Sharq%20Shopping%20Center%20%28%D9%85%D8%AC%D9%85%D8%B9%20%D8%A7%D9%84%D8%B4%D8%B1%D9%82%20%D8%A7%D9%84%D8%AA%D8%AC%D8%A7%D8%B1%D9%8A%29%3C/div%3E%27%29%5B0%5D%3B%0A%20%20%20%20%20%20%20%20%20%20%20%20%20%20%20%20popup_70d9923c6e2c417698451a5850c1001d.setContent%28html_1784057d47804d6b9a4c3124abd1a3b0%29%3B%0A%20%20%20%20%20%20%20%20%20%20%20%20%0A%0A%20%20%20%20%20%20%20%20%20%20%20%20circle_marker_6aed93b1085c4416bcc2cc2764103014.bindPopup%28popup_70d9923c6e2c417698451a5850c1001d%29%3B%0A%0A%20%20%20%20%20%20%20%20%20%20%20%20%0A%20%20%20%20%20%20%20%20%0A%20%20%20%20%0A%20%20%20%20%20%20%20%20%20%20%20%20var%20circle_marker_c234b1040edb407399dd8a9a27cb8b2a%20%3D%20L.circleMarker%28%0A%20%20%20%20%20%20%20%20%20%20%20%20%20%20%20%20%5B21.549167333908414%2C39.19490413136169%5D%2C%0A%20%20%20%20%20%20%20%20%20%20%20%20%20%20%20%20%7B%0A%20%20%22bubblingMouseEvents%22%3A%20true%2C%0A%20%20%22color%22%3A%20%22red%22%2C%0A%20%20%22dashArray%22%3A%20null%2C%0A%20%20%22dashOffset%22%3A%20null%2C%0A%20%20%22fill%22%3A%20true%2C%0A%20%20%22fillColor%22%3A%20%22%233186cc%22%2C%0A%20%20%22fillOpacity%22%3A%200.7%2C%0A%20%20%22fillRule%22%3A%20%22evenodd%22%2C%0A%20%20%22lineCap%22%3A%20%22round%22%2C%0A%20%20%22lineJoin%22%3A%20%22round%22%2C%0A%20%20%22opacity%22%3A%201.0%2C%0A%20%20%22radius%22%3A%205%2C%0A%20%20%22stroke%22%3A%20true%2C%0A%20%20%22weight%22%3A%203%0A%7D%0A%20%20%20%20%20%20%20%20%20%20%20%20%20%20%20%20%29.addTo%28map_c5eee616582c4e61a3fa32159a8d06da%29%3B%0A%20%20%20%20%20%20%20%20%20%20%20%20%0A%20%20%20%20%0A%20%20%20%20%20%20%20%20%20%20%20%20var%20popup_82bef8ab50d64b9d92d19030448f3efc%20%3D%20L.popup%28%7BmaxWidth%3A%20%27300%27%7D%29%3B%0A%0A%20%20%20%20%20%20%20%20%20%20%20%20%0A%20%20%20%20%20%20%20%20%20%20%20%20%20%20%20%20var%20html_09219d1ed5704a53816b7a926e6f2d38%20%3D%20%24%28%27%3Cdiv%20id%3D%22html_09219d1ed5704a53816b7a926e6f2d38%22%20style%3D%22width%3A%20100.0%25%3B%20height%3A%20100.0%25%3B%22%3E%D9%85%D8%B7%D8%A7%D8%A8%D8%AE%20%D9%88%D9%85%D8%B7%D8%A7%D8%B9%D9%85%20%D8%A7%D9%84%D8%B3%D8%B1%D9%88%D8%B1%3C/div%3E%27%29%5B0%5D%3B%0A%20%20%20%20%20%20%20%20%20%20%20%20%20%20%20%20popup_82bef8ab50d64b9d92d19030448f3efc.setContent%28html_09219d1ed5704a53816b7a926e6f2d38%29%3B%0A%20%20%20%20%20%20%20%20%20%20%20%20%0A%0A%20%20%20%20%20%20%20%20%20%20%20%20circle_marker_c234b1040edb407399dd8a9a27cb8b2a.bindPopup%28popup_82bef8ab50d64b9d92d19030448f3efc%29%3B%0A%0A%20%20%20%20%20%20%20%20%20%20%20%20%0A%20%20%20%20%20%20%20%20%0A%20%20%20%20%0A%20%20%20%20%20%20%20%20%20%20%20%20var%20circle_marker_c8d14c9bf07d42768a67958a0208693f%20%3D%20L.circleMarker%28%0A%20%20%20%20%20%20%20%20%20%20%20%20%20%20%20%20%5B21.534278%2C39.197908%5D%2C%0A%20%20%20%20%20%20%20%20%20%20%20%20%20%20%20%20%7B%0A%20%20%22bubblingMouseEvents%22%3A%20true%2C%0A%20%20%22color%22%3A%20%22red%22%2C%0A%20%20%22dashArray%22%3A%20null%2C%0A%20%20%22dashOffset%22%3A%20null%2C%0A%20%20%22fill%22%3A%20true%2C%0A%20%20%22fillColor%22%3A%20%22%233186cc%22%2C%0A%20%20%22fillOpacity%22%3A%200.7%2C%0A%20%20%22fillRule%22%3A%20%22evenodd%22%2C%0A%20%20%22lineCap%22%3A%20%22round%22%2C%0A%20%20%22lineJoin%22%3A%20%22round%22%2C%0A%20%20%22opacity%22%3A%201.0%2C%0A%20%20%22radius%22%3A%205%2C%0A%20%20%22stroke%22%3A%20true%2C%0A%20%20%22weight%22%3A%203%0A%7D%0A%20%20%20%20%20%20%20%20%20%20%20%20%20%20%20%20%29.addTo%28map_c5eee616582c4e61a3fa32159a8d06da%29%3B%0A%20%20%20%20%20%20%20%20%20%20%20%20%0A%20%20%20%20%0A%20%20%20%20%20%20%20%20%20%20%20%20var%20popup_f8ca0a3357ac4974b9c7d6b5b60208a2%20%3D%20L.popup%28%7BmaxWidth%3A%20%27300%27%7D%29%3B%0A%0A%20%20%20%20%20%20%20%20%20%20%20%20%0A%20%20%20%20%20%20%20%20%20%20%20%20%20%20%20%20var%20html_b32cb8282d4e4ac5bf3e52f75084997c%20%3D%20%24%28%27%3Cdiv%20id%3D%22html_b32cb8282d4e4ac5bf3e52f75084997c%22%20style%3D%22width%3A%20100.0%25%3B%20height%3A%20100.0%25%3B%22%3E%D9%85%D8%B1%D8%B3%D9%89%20%D8%A7%D9%84%D8%AD%D8%B6%D8%A7%D8%B1%D9%85%3C/div%3E%27%29%5B0%5D%3B%0A%20%20%20%20%20%20%20%20%20%20%20%20%20%20%20%20popup_f8ca0a3357ac4974b9c7d6b5b60208a2.setContent%28html_b32cb8282d4e4ac5bf3e52f75084997c%29%3B%0A%20%20%20%20%20%20%20%20%20%20%20%20%0A%0A%20%20%20%20%20%20%20%20%20%20%20%20circle_marker_c8d14c9bf07d42768a67958a0208693f.bindPopup%28popup_f8ca0a3357ac4974b9c7d6b5b60208a2%29%3B%0A%0A%20%20%20%20%20%20%20%20%20%20%20%20%0A%20%20%20%20%20%20%20%20%0A%20%20%20%20%0A%20%20%20%20%20%20%20%20%20%20%20%20var%20circle_marker_7b07b9d312634a2da03bbe441eb11723%20%3D%20L.circleMarker%28%0A%20%20%20%20%20%20%20%20%20%20%20%20%20%20%20%20%5B21.53356%2C39.1986%5D%2C%0A%20%20%20%20%20%20%20%20%20%20%20%20%20%20%20%20%7B%0A%20%20%22bubblingMouseEvents%22%3A%20true%2C%0A%20%20%22color%22%3A%20%22red%22%2C%0A%20%20%22dashArray%22%3A%20null%2C%0A%20%20%22dashOffset%22%3A%20null%2C%0A%20%20%22fill%22%3A%20true%2C%0A%20%20%22fillColor%22%3A%20%22%233186cc%22%2C%0A%20%20%22fillOpacity%22%3A%200.7%2C%0A%20%20%22fillRule%22%3A%20%22evenodd%22%2C%0A%20%20%22lineCap%22%3A%20%22round%22%2C%0A%20%20%22lineJoin%22%3A%20%22round%22%2C%0A%20%20%22opacity%22%3A%201.0%2C%0A%20%20%22radius%22%3A%205%2C%0A%20%20%22stroke%22%3A%20true%2C%0A%20%20%22weight%22%3A%203%0A%7D%0A%20%20%20%20%20%20%20%20%20%20%20%20%20%20%20%20%29.addTo%28map_c5eee616582c4e61a3fa32159a8d06da%29%3B%0A%20%20%20%20%20%20%20%20%20%20%20%20%0A%20%20%20%20%0A%20%20%20%20%20%20%20%20%20%20%20%20var%20popup_5b09a3ac715642e5b370faa383954f77%20%3D%20L.popup%28%7BmaxWidth%3A%20%27300%27%7D%29%3B%0A%0A%20%20%20%20%20%20%20%20%20%20%20%20%0A%20%20%20%20%20%20%20%20%20%20%20%20%20%20%20%20var%20html_06fa8839ffa9455f9654ba7b1b295a39%20%3D%20%24%28%27%3Cdiv%20id%3D%22html_06fa8839ffa9455f9654ba7b1b295a39%22%20style%3D%22width%3A%20100.0%25%3B%20height%3A%20100.0%25%3B%22%3EAl-Hamra%26%2339%3Ba%20Barbecue%20Rest.%20%D9%85%D8%B7%D8%A7%D8%B9%D9%85%20%D9%85%D8%B4%D9%88%D9%8A%D8%A7%D8%AA%20%D8%A7%D9%84%D8%AD%D9%85%D8%B1%D8%A7%D8%A1%3C/div%3E%27%29%5B0%5D%3B%0A%20%20%20%20%20%20%20%20%20%20%20%20%20%20%20%20popup_5b09a3ac715642e5b370faa383954f77.setContent%28html_06fa8839ffa9455f9654ba7b1b295a39%29%3B%0A%20%20%20%20%20%20%20%20%20%20%20%20%0A%0A%20%20%20%20%20%20%20%20%20%20%20%20circle_marker_7b07b9d312634a2da03bbe441eb11723.bindPopup%28popup_5b09a3ac715642e5b370faa383954f77%29%3B%0A%0A%20%20%20%20%20%20%20%20%20%20%20%20%0A%20%20%20%20%20%20%20%20%0A%20%20%20%20%0A%20%20%20%20%20%20%20%20%20%20%20%20var%20heat_map_fc231ec05f64408ca552481e8dda30fc%20%3D%20L.heatLayer%28%0A%20%20%20%20%20%20%20%20%20%20%20%20%20%20%20%20%5B%5B21.542388997135777%2C%2039.197059467440354%5D%2C%20%5B21.54524568978464%2C%2039.19551730155945%5D%2C%20%5B21.533438623559338%2C%2039.19692726409651%5D%2C%20%5B21.546928%2C%2039.189711%5D%2C%20%5B21.533474%2C%2039.196891%5D%2C%20%5B21.546753%2C%2039.189772%5D%2C%20%5B21.534021498000822%2C%2039.20109969145246%5D%2C%20%5B21.541838252197962%2C%2039.190843293372474%5D%2C%20%5B21.543123078008726%2C%2039.1970618930079%5D%2C%20%5B21.549167333908414%2C%2039.19490413136169%5D%2C%20%5B21.534278%2C%2039.197908%5D%2C%20%5B21.53356%2C%2039.1986%5D%5D%2C%0A%20%20%20%20%20%20%20%20%20%20%20%20%20%20%20%20%7B%0A%20%20%20%20%20%20%20%20%20%20%20%20%20%20%20%20%20%20%20%20minOpacity%3A%200.5%2C%0A%20%20%20%20%20%20%20%20%20%20%20%20%20%20%20%20%20%20%20%20maxZoom%3A%2018%2C%0A%20%20%20%20%20%20%20%20%20%20%20%20%20%20%20%20%20%20%20%20max%3A%201.0%2C%0A%20%20%20%20%20%20%20%20%20%20%20%20%20%20%20%20%20%20%20%20radius%3A%2025%2C%0A%20%20%20%20%20%20%20%20%20%20%20%20%20%20%20%20%20%20%20%20blur%3A%2015%2C%0A%20%20%20%20%20%20%20%20%20%20%20%20%20%20%20%20%20%20%20%20gradient%3A%20null%0A%20%20%20%20%20%20%20%20%20%20%20%20%20%20%20%20%20%20%20%20%7D%29%0A%20%20%20%20%20%20%20%20%20%20%20%20%20%20%20%20.addTo%28map_c5eee616582c4e61a3fa32159a8d06da%29%3B%0A%20%20%20%20%20%20%20%20%0A%3C/script%3E onload=\"this.contentDocument.open();this.contentDocument.write(    decodeURIComponent(this.getAttribute('data-html')));this.contentDocument.close();\" allowfullscreen webkitallowfullscreen mozallowfullscreen></iframe></div></div>"
      ],
      "text/plain": [
       "<folium.folium.Map at 0x7f9329d9e6a0>"
      ]
     },
     "execution_count": 16,
     "metadata": {},
     "output_type": "execute_result"
    }
   ],
   "source": [
    "from folium import plugins\n",
    "\n",
    "\n",
    "map_jeddah = folium.Map(location=[21.54238, 39.19797], zoom_start=14)\n",
    "\n",
    "def add_markers(df):\n",
    "    for (j, row) in df.iterrows():\n",
    "        label = folium.Popup(row[\"name\"], parse_html=True)\n",
    "        folium.CircleMarker(\n",
    "            [row[\"lat\"], row[\"lng\"]],\n",
    "            radius=5,\n",
    "            popup=label,\n",
    "            color='red',\n",
    "            fill=True,\n",
    "            fill_color='#3186cc',\n",
    "            fill_opacity=0.7,\n",
    "            parse_html=False).add_to(map_jeddah)\n",
    "\n",
    "add_markers(df)\n",
    "hm_data = df[[\"lat\", \"lng\"]].to_numpy().tolist()\n",
    "map_jeddah.add_child(plugins.HeatMap(hm_data))\n",
    "\n",
    "map_jeddah"
   ]
  },
  {
   "cell_type": "code",
   "execution_count": 17,
   "id": "1613054b-eec5-494d-8907-3e74ed975767",
   "metadata": {},
   "outputs": [
    {
     "data": {
      "text/html": [
       "<div style=\"width:100%;\"><div style=\"position:relative;width:100%;height:0;padding-bottom:60%;\"><span style=\"color:#565656\">Make this Notebook Trusted to load map: File -> Trust Notebook</span><iframe src=\"about:blank\" style=\"position:absolute;width:100%;height:100%;left:0;top:0;border:none !important;\" data-html=%3C%21DOCTYPE%20html%3E%0A%3Chead%3E%20%20%20%20%0A%20%20%20%20%3Cmeta%20http-equiv%3D%22content-type%22%20content%3D%22text/html%3B%20charset%3DUTF-8%22%20/%3E%0A%20%20%20%20%3Cscript%3EL_PREFER_CANVAS%20%3D%20false%3B%20L_NO_TOUCH%20%3D%20false%3B%20L_DISABLE_3D%20%3D%20false%3B%3C/script%3E%0A%20%20%20%20%3Cscript%20src%3D%22https%3A//cdn.jsdelivr.net/npm/leaflet%401.2.0/dist/leaflet.js%22%3E%3C/script%3E%0A%20%20%20%20%3Cscript%20src%3D%22https%3A//ajax.googleapis.com/ajax/libs/jquery/1.11.1/jquery.min.js%22%3E%3C/script%3E%0A%20%20%20%20%3Cscript%20src%3D%22https%3A//maxcdn.bootstrapcdn.com/bootstrap/3.2.0/js/bootstrap.min.js%22%3E%3C/script%3E%0A%20%20%20%20%3Cscript%20src%3D%22https%3A//cdnjs.cloudflare.com/ajax/libs/Leaflet.awesome-markers/2.0.2/leaflet.awesome-markers.js%22%3E%3C/script%3E%0A%20%20%20%20%3Clink%20rel%3D%22stylesheet%22%20href%3D%22https%3A//cdn.jsdelivr.net/npm/leaflet%401.2.0/dist/leaflet.css%22/%3E%0A%20%20%20%20%3Clink%20rel%3D%22stylesheet%22%20href%3D%22https%3A//maxcdn.bootstrapcdn.com/bootstrap/3.2.0/css/bootstrap.min.css%22/%3E%0A%20%20%20%20%3Clink%20rel%3D%22stylesheet%22%20href%3D%22https%3A//maxcdn.bootstrapcdn.com/bootstrap/3.2.0/css/bootstrap-theme.min.css%22/%3E%0A%20%20%20%20%3Clink%20rel%3D%22stylesheet%22%20href%3D%22https%3A//maxcdn.bootstrapcdn.com/font-awesome/4.6.3/css/font-awesome.min.css%22/%3E%0A%20%20%20%20%3Clink%20rel%3D%22stylesheet%22%20href%3D%22https%3A//cdnjs.cloudflare.com/ajax/libs/Leaflet.awesome-markers/2.0.2/leaflet.awesome-markers.css%22/%3E%0A%20%20%20%20%3Clink%20rel%3D%22stylesheet%22%20href%3D%22https%3A//rawgit.com/python-visualization/folium/master/folium/templates/leaflet.awesome.rotate.css%22/%3E%0A%20%20%20%20%3Cstyle%3Ehtml%2C%20body%20%7Bwidth%3A%20100%25%3Bheight%3A%20100%25%3Bmargin%3A%200%3Bpadding%3A%200%3B%7D%3C/style%3E%0A%20%20%20%20%3Cstyle%3E%23map%20%7Bposition%3Aabsolute%3Btop%3A0%3Bbottom%3A0%3Bright%3A0%3Bleft%3A0%3B%7D%3C/style%3E%0A%20%20%20%20%0A%20%20%20%20%20%20%20%20%20%20%20%20%3Cstyle%3E%20%23map_f4f283ce82dc40fcbd5c34a15ec19ce7%20%7B%0A%20%20%20%20%20%20%20%20%20%20%20%20%20%20%20%20position%20%3A%20relative%3B%0A%20%20%20%20%20%20%20%20%20%20%20%20%20%20%20%20width%20%3A%20100.0%25%3B%0A%20%20%20%20%20%20%20%20%20%20%20%20%20%20%20%20height%3A%20100.0%25%3B%0A%20%20%20%20%20%20%20%20%20%20%20%20%20%20%20%20left%3A%200.0%25%3B%0A%20%20%20%20%20%20%20%20%20%20%20%20%20%20%20%20top%3A%200.0%25%3B%0A%20%20%20%20%20%20%20%20%20%20%20%20%20%20%20%20%7D%0A%20%20%20%20%20%20%20%20%20%20%20%20%3C/style%3E%0A%20%20%20%20%20%20%20%20%0A%3C/head%3E%0A%3Cbody%3E%20%20%20%20%0A%20%20%20%20%0A%20%20%20%20%20%20%20%20%20%20%20%20%3Cdiv%20class%3D%22folium-map%22%20id%3D%22map_f4f283ce82dc40fcbd5c34a15ec19ce7%22%20%3E%3C/div%3E%0A%20%20%20%20%20%20%20%20%0A%3C/body%3E%0A%3Cscript%3E%20%20%20%20%0A%20%20%20%20%0A%0A%20%20%20%20%20%20%20%20%20%20%20%20%0A%20%20%20%20%20%20%20%20%20%20%20%20%20%20%20%20var%20bounds%20%3D%20null%3B%0A%20%20%20%20%20%20%20%20%20%20%20%20%0A%0A%20%20%20%20%20%20%20%20%20%20%20%20var%20map_f4f283ce82dc40fcbd5c34a15ec19ce7%20%3D%20L.map%28%0A%20%20%20%20%20%20%20%20%20%20%20%20%20%20%20%20%20%20%20%20%20%20%20%20%20%20%20%20%20%20%20%20%20%20%27map_f4f283ce82dc40fcbd5c34a15ec19ce7%27%2C%0A%20%20%20%20%20%20%20%20%20%20%20%20%20%20%20%20%20%20%20%20%20%20%20%20%20%20%20%20%20%20%20%20%20%20%7Bcenter%3A%20%5B21.54238%2C39.19797%5D%2C%0A%20%20%20%20%20%20%20%20%20%20%20%20%20%20%20%20%20%20%20%20%20%20%20%20%20%20%20%20%20%20%20%20%20%20zoom%3A%2017%2C%0A%20%20%20%20%20%20%20%20%20%20%20%20%20%20%20%20%20%20%20%20%20%20%20%20%20%20%20%20%20%20%20%20%20%20maxBounds%3A%20bounds%2C%0A%20%20%20%20%20%20%20%20%20%20%20%20%20%20%20%20%20%20%20%20%20%20%20%20%20%20%20%20%20%20%20%20%20%20layers%3A%20%5B%5D%2C%0A%20%20%20%20%20%20%20%20%20%20%20%20%20%20%20%20%20%20%20%20%20%20%20%20%20%20%20%20%20%20%20%20%20%20worldCopyJump%3A%20false%2C%0A%20%20%20%20%20%20%20%20%20%20%20%20%20%20%20%20%20%20%20%20%20%20%20%20%20%20%20%20%20%20%20%20%20%20crs%3A%20L.CRS.EPSG3857%0A%20%20%20%20%20%20%20%20%20%20%20%20%20%20%20%20%20%20%20%20%20%20%20%20%20%20%20%20%20%20%20%20%20%7D%29%3B%0A%20%20%20%20%20%20%20%20%20%20%20%20%0A%20%20%20%20%20%20%20%20%0A%20%20%20%20%0A%20%20%20%20%20%20%20%20%20%20%20%20var%20tile_layer_20db4865719e42c2853377a0e82e4364%20%3D%20L.tileLayer%28%0A%20%20%20%20%20%20%20%20%20%20%20%20%20%20%20%20%27https%3A//%7Bs%7D.tile.openstreetmap.org/%7Bz%7D/%7Bx%7D/%7By%7D.png%27%2C%0A%20%20%20%20%20%20%20%20%20%20%20%20%20%20%20%20%7B%0A%20%20%22attribution%22%3A%20null%2C%0A%20%20%22detectRetina%22%3A%20false%2C%0A%20%20%22maxZoom%22%3A%2018%2C%0A%20%20%22minZoom%22%3A%201%2C%0A%20%20%22noWrap%22%3A%20false%2C%0A%20%20%22subdomains%22%3A%20%22abc%22%0A%7D%0A%20%20%20%20%20%20%20%20%20%20%20%20%20%20%20%20%29.addTo%28map_f4f283ce82dc40fcbd5c34a15ec19ce7%29%3B%0A%20%20%20%20%20%20%20%20%0A%20%20%20%20%0A%20%20%20%20%20%20%20%20%20%20%20%20var%20circle_marker_3259d93249574198bfc2c8ce2341d312%20%3D%20L.circleMarker%28%0A%20%20%20%20%20%20%20%20%20%20%20%20%20%20%20%20%5B21.542388997135777%2C39.197059467440354%5D%2C%0A%20%20%20%20%20%20%20%20%20%20%20%20%20%20%20%20%7B%0A%20%20%22bubblingMouseEvents%22%3A%20true%2C%0A%20%20%22color%22%3A%20%22red%22%2C%0A%20%20%22dashArray%22%3A%20null%2C%0A%20%20%22dashOffset%22%3A%20null%2C%0A%20%20%22fill%22%3A%20true%2C%0A%20%20%22fillColor%22%3A%20%22%233186cc%22%2C%0A%20%20%22fillOpacity%22%3A%200.7%2C%0A%20%20%22fillRule%22%3A%20%22evenodd%22%2C%0A%20%20%22lineCap%22%3A%20%22round%22%2C%0A%20%20%22lineJoin%22%3A%20%22round%22%2C%0A%20%20%22opacity%22%3A%201.0%2C%0A%20%20%22radius%22%3A%205%2C%0A%20%20%22stroke%22%3A%20true%2C%0A%20%20%22weight%22%3A%203%0A%7D%0A%20%20%20%20%20%20%20%20%20%20%20%20%20%20%20%20%29.addTo%28map_f4f283ce82dc40fcbd5c34a15ec19ce7%29%3B%0A%20%20%20%20%20%20%20%20%20%20%20%20%0A%20%20%20%20%0A%20%20%20%20%20%20%20%20%20%20%20%20var%20popup_bfaef100e6a74c14984dd1e2f4592701%20%3D%20L.popup%28%7BmaxWidth%3A%20%27300%27%7D%29%3B%0A%0A%20%20%20%20%20%20%20%20%20%20%20%20%0A%20%20%20%20%20%20%20%20%20%20%20%20%20%20%20%20var%20html_0f676735f83c421aa6f50296ea970029%20%3D%20%24%28%27%3Cdiv%20id%3D%22html_0f676735f83c421aa6f50296ea970029%22%20style%3D%22width%3A%20100.0%25%3B%20height%3A%20100.0%25%3B%22%3E%D8%A7%D9%84%D8%B9%D9%85%D8%A7%D8%B1%D9%8A%20%D9%84%D9%84%D8%A3%D9%82%D9%85%D8%B4%D8%A9%3C/div%3E%27%29%5B0%5D%3B%0A%20%20%20%20%20%20%20%20%20%20%20%20%20%20%20%20popup_bfaef100e6a74c14984dd1e2f4592701.setContent%28html_0f676735f83c421aa6f50296ea970029%29%3B%0A%20%20%20%20%20%20%20%20%20%20%20%20%0A%0A%20%20%20%20%20%20%20%20%20%20%20%20circle_marker_3259d93249574198bfc2c8ce2341d312.bindPopup%28popup_bfaef100e6a74c14984dd1e2f4592701%29%3B%0A%0A%20%20%20%20%20%20%20%20%20%20%20%20%0A%20%20%20%20%20%20%20%20%0A%20%20%20%20%0A%20%20%20%20%20%20%20%20%20%20%20%20var%20circle_marker_68b4ce35921143beaeff94c76cb46e18%20%3D%20L.circleMarker%28%0A%20%20%20%20%20%20%20%20%20%20%20%20%20%20%20%20%5B21.54524568978464%2C39.19551730155945%5D%2C%0A%20%20%20%20%20%20%20%20%20%20%20%20%20%20%20%20%7B%0A%20%20%22bubblingMouseEvents%22%3A%20true%2C%0A%20%20%22color%22%3A%20%22red%22%2C%0A%20%20%22dashArray%22%3A%20null%2C%0A%20%20%22dashOffset%22%3A%20null%2C%0A%20%20%22fill%22%3A%20true%2C%0A%20%20%22fillColor%22%3A%20%22%233186cc%22%2C%0A%20%20%22fillOpacity%22%3A%200.7%2C%0A%20%20%22fillRule%22%3A%20%22evenodd%22%2C%0A%20%20%22lineCap%22%3A%20%22round%22%2C%0A%20%20%22lineJoin%22%3A%20%22round%22%2C%0A%20%20%22opacity%22%3A%201.0%2C%0A%20%20%22radius%22%3A%205%2C%0A%20%20%22stroke%22%3A%20true%2C%0A%20%20%22weight%22%3A%203%0A%7D%0A%20%20%20%20%20%20%20%20%20%20%20%20%20%20%20%20%29.addTo%28map_f4f283ce82dc40fcbd5c34a15ec19ce7%29%3B%0A%20%20%20%20%20%20%20%20%20%20%20%20%0A%20%20%20%20%0A%20%20%20%20%20%20%20%20%20%20%20%20var%20popup_1c57efb5f309413989ce89a8815fae58%20%3D%20L.popup%28%7BmaxWidth%3A%20%27300%27%7D%29%3B%0A%0A%20%20%20%20%20%20%20%20%20%20%20%20%0A%20%20%20%20%20%20%20%20%20%20%20%20%20%20%20%20var%20html_06b3a2492cc14a53a0bd663457a01c79%20%3D%20%24%28%27%3Cdiv%20id%3D%22html_06b3a2492cc14a53a0bd663457a01c79%22%20style%3D%22width%3A%20100.0%25%3B%20height%3A%20100.0%25%3B%22%3EMobily%20Office%20%28%D8%B4%D8%A7%D8%B1%D8%B9%20%D8%BA%D8%B1%D9%86%D8%A7%D8%B7%D8%A9%29%3C/div%3E%27%29%5B0%5D%3B%0A%20%20%20%20%20%20%20%20%20%20%20%20%20%20%20%20popup_1c57efb5f309413989ce89a8815fae58.setContent%28html_06b3a2492cc14a53a0bd663457a01c79%29%3B%0A%20%20%20%20%20%20%20%20%20%20%20%20%0A%0A%20%20%20%20%20%20%20%20%20%20%20%20circle_marker_68b4ce35921143beaeff94c76cb46e18.bindPopup%28popup_1c57efb5f309413989ce89a8815fae58%29%3B%0A%0A%20%20%20%20%20%20%20%20%20%20%20%20%0A%20%20%20%20%20%20%20%20%0A%20%20%20%20%0A%20%20%20%20%20%20%20%20%20%20%20%20var%20circle_marker_dd2c20ebf24a4bcbad92bf4a54b8ad77%20%3D%20L.circleMarker%28%0A%20%20%20%20%20%20%20%20%20%20%20%20%20%20%20%20%5B21.533438623559338%2C39.19692726409651%5D%2C%0A%20%20%20%20%20%20%20%20%20%20%20%20%20%20%20%20%7B%0A%20%20%22bubblingMouseEvents%22%3A%20true%2C%0A%20%20%22color%22%3A%20%22red%22%2C%0A%20%20%22dashArray%22%3A%20null%2C%0A%20%20%22dashOffset%22%3A%20null%2C%0A%20%20%22fill%22%3A%20true%2C%0A%20%20%22fillColor%22%3A%20%22%233186cc%22%2C%0A%20%20%22fillOpacity%22%3A%200.7%2C%0A%20%20%22fillRule%22%3A%20%22evenodd%22%2C%0A%20%20%22lineCap%22%3A%20%22round%22%2C%0A%20%20%22lineJoin%22%3A%20%22round%22%2C%0A%20%20%22opacity%22%3A%201.0%2C%0A%20%20%22radius%22%3A%205%2C%0A%20%20%22stroke%22%3A%20true%2C%0A%20%20%22weight%22%3A%203%0A%7D%0A%20%20%20%20%20%20%20%20%20%20%20%20%20%20%20%20%29.addTo%28map_f4f283ce82dc40fcbd5c34a15ec19ce7%29%3B%0A%20%20%20%20%20%20%20%20%20%20%20%20%0A%20%20%20%20%0A%20%20%20%20%20%20%20%20%20%20%20%20var%20popup_cb7784d0607a45eb9dc2d7852c0578fe%20%3D%20L.popup%28%7BmaxWidth%3A%20%27300%27%7D%29%3B%0A%0A%20%20%20%20%20%20%20%20%20%20%20%20%0A%20%20%20%20%20%20%20%20%20%20%20%20%20%20%20%20var%20html_0ce12c3fdb3d412cbd799aa67a67fe3c%20%3D%20%24%28%27%3Cdiv%20id%3D%22html_0ce12c3fdb3d412cbd799aa67a67fe3c%22%20style%3D%22width%3A%20100.0%25%3B%20height%3A%20100.0%25%3B%22%3EFitness%20Time%20Ladies%3C/div%3E%27%29%5B0%5D%3B%0A%20%20%20%20%20%20%20%20%20%20%20%20%20%20%20%20popup_cb7784d0607a45eb9dc2d7852c0578fe.setContent%28html_0ce12c3fdb3d412cbd799aa67a67fe3c%29%3B%0A%20%20%20%20%20%20%20%20%20%20%20%20%0A%0A%20%20%20%20%20%20%20%20%20%20%20%20circle_marker_dd2c20ebf24a4bcbad92bf4a54b8ad77.bindPopup%28popup_cb7784d0607a45eb9dc2d7852c0578fe%29%3B%0A%0A%20%20%20%20%20%20%20%20%20%20%20%20%0A%20%20%20%20%20%20%20%20%0A%20%20%20%20%0A%20%20%20%20%20%20%20%20%20%20%20%20var%20circle_marker_a811c94711db49d394056e1e99bc5184%20%3D%20L.circleMarker%28%0A%20%20%20%20%20%20%20%20%20%20%20%20%20%20%20%20%5B21.546928%2C39.189711%5D%2C%0A%20%20%20%20%20%20%20%20%20%20%20%20%20%20%20%20%7B%0A%20%20%22bubblingMouseEvents%22%3A%20true%2C%0A%20%20%22color%22%3A%20%22red%22%2C%0A%20%20%22dashArray%22%3A%20null%2C%0A%20%20%22dashOffset%22%3A%20null%2C%0A%20%20%22fill%22%3A%20true%2C%0A%20%20%22fillColor%22%3A%20%22%233186cc%22%2C%0A%20%20%22fillOpacity%22%3A%200.7%2C%0A%20%20%22fillRule%22%3A%20%22evenodd%22%2C%0A%20%20%22lineCap%22%3A%20%22round%22%2C%0A%20%20%22lineJoin%22%3A%20%22round%22%2C%0A%20%20%22opacity%22%3A%201.0%2C%0A%20%20%22radius%22%3A%205%2C%0A%20%20%22stroke%22%3A%20true%2C%0A%20%20%22weight%22%3A%203%0A%7D%0A%20%20%20%20%20%20%20%20%20%20%20%20%20%20%20%20%29.addTo%28map_f4f283ce82dc40fcbd5c34a15ec19ce7%29%3B%0A%20%20%20%20%20%20%20%20%20%20%20%20%0A%20%20%20%20%0A%20%20%20%20%20%20%20%20%20%20%20%20var%20popup_307a9656359e464892ae07d2143cf598%20%3D%20L.popup%28%7BmaxWidth%3A%20%27300%27%7D%29%3B%0A%0A%20%20%20%20%20%20%20%20%20%20%20%20%0A%20%20%20%20%20%20%20%20%20%20%20%20%20%20%20%20var%20html_2b37a70807524dd7a5131c5f7c45cd5d%20%3D%20%24%28%27%3Cdiv%20id%3D%22html_2b37a70807524dd7a5131c5f7c45cd5d%22%20style%3D%22width%3A%20100.0%25%3B%20height%3A%20100.0%25%3B%22%3EDunkin%20Donuts%3C/div%3E%27%29%5B0%5D%3B%0A%20%20%20%20%20%20%20%20%20%20%20%20%20%20%20%20popup_307a9656359e464892ae07d2143cf598.setContent%28html_2b37a70807524dd7a5131c5f7c45cd5d%29%3B%0A%20%20%20%20%20%20%20%20%20%20%20%20%0A%0A%20%20%20%20%20%20%20%20%20%20%20%20circle_marker_a811c94711db49d394056e1e99bc5184.bindPopup%28popup_307a9656359e464892ae07d2143cf598%29%3B%0A%0A%20%20%20%20%20%20%20%20%20%20%20%20%0A%20%20%20%20%20%20%20%20%0A%20%20%20%20%0A%20%20%20%20%20%20%20%20%20%20%20%20var%20circle_marker_9659eaba73d54f47922db84e7532de26%20%3D%20L.circleMarker%28%0A%20%20%20%20%20%20%20%20%20%20%20%20%20%20%20%20%5B21.533474%2C39.196891%5D%2C%0A%20%20%20%20%20%20%20%20%20%20%20%20%20%20%20%20%7B%0A%20%20%22bubblingMouseEvents%22%3A%20true%2C%0A%20%20%22color%22%3A%20%22red%22%2C%0A%20%20%22dashArray%22%3A%20null%2C%0A%20%20%22dashOffset%22%3A%20null%2C%0A%20%20%22fill%22%3A%20true%2C%0A%20%20%22fillColor%22%3A%20%22%233186cc%22%2C%0A%20%20%22fillOpacity%22%3A%200.7%2C%0A%20%20%22fillRule%22%3A%20%22evenodd%22%2C%0A%20%20%22lineCap%22%3A%20%22round%22%2C%0A%20%20%22lineJoin%22%3A%20%22round%22%2C%0A%20%20%22opacity%22%3A%201.0%2C%0A%20%20%22radius%22%3A%205%2C%0A%20%20%22stroke%22%3A%20true%2C%0A%20%20%22weight%22%3A%203%0A%7D%0A%20%20%20%20%20%20%20%20%20%20%20%20%20%20%20%20%29.addTo%28map_f4f283ce82dc40fcbd5c34a15ec19ce7%29%3B%0A%20%20%20%20%20%20%20%20%20%20%20%20%0A%20%20%20%20%0A%20%20%20%20%20%20%20%20%20%20%20%20var%20popup_1c623cd377454413aa1133dfa3b65cb7%20%3D%20L.popup%28%7BmaxWidth%3A%20%27300%27%7D%29%3B%0A%0A%20%20%20%20%20%20%20%20%20%20%20%20%0A%20%20%20%20%20%20%20%20%20%20%20%20%20%20%20%20var%20html_d2dc7677dfdc4fe3aab0fa9f59c61458%20%3D%20%24%28%27%3Cdiv%20id%3D%22html_d2dc7677dfdc4fe3aab0fa9f59c61458%22%20style%3D%22width%3A%20100.0%25%3B%20height%3A%20100.0%25%3B%22%3EStarbucks%3C/div%3E%27%29%5B0%5D%3B%0A%20%20%20%20%20%20%20%20%20%20%20%20%20%20%20%20popup_1c623cd377454413aa1133dfa3b65cb7.setContent%28html_d2dc7677dfdc4fe3aab0fa9f59c61458%29%3B%0A%20%20%20%20%20%20%20%20%20%20%20%20%0A%0A%20%20%20%20%20%20%20%20%20%20%20%20circle_marker_9659eaba73d54f47922db84e7532de26.bindPopup%28popup_1c623cd377454413aa1133dfa3b65cb7%29%3B%0A%0A%20%20%20%20%20%20%20%20%20%20%20%20%0A%20%20%20%20%20%20%20%20%0A%20%20%20%20%0A%20%20%20%20%20%20%20%20%20%20%20%20var%20circle_marker_e785fe2224304f6ba6a6a69ce7e774b0%20%3D%20L.circleMarker%28%0A%20%20%20%20%20%20%20%20%20%20%20%20%20%20%20%20%5B21.546753%2C39.189772%5D%2C%0A%20%20%20%20%20%20%20%20%20%20%20%20%20%20%20%20%7B%0A%20%20%22bubblingMouseEvents%22%3A%20true%2C%0A%20%20%22color%22%3A%20%22red%22%2C%0A%20%20%22dashArray%22%3A%20null%2C%0A%20%20%22dashOffset%22%3A%20null%2C%0A%20%20%22fill%22%3A%20true%2C%0A%20%20%22fillColor%22%3A%20%22%233186cc%22%2C%0A%20%20%22fillOpacity%22%3A%200.7%2C%0A%20%20%22fillRule%22%3A%20%22evenodd%22%2C%0A%20%20%22lineCap%22%3A%20%22round%22%2C%0A%20%20%22lineJoin%22%3A%20%22round%22%2C%0A%20%20%22opacity%22%3A%201.0%2C%0A%20%20%22radius%22%3A%205%2C%0A%20%20%22stroke%22%3A%20true%2C%0A%20%20%22weight%22%3A%203%0A%7D%0A%20%20%20%20%20%20%20%20%20%20%20%20%20%20%20%20%29.addTo%28map_f4f283ce82dc40fcbd5c34a15ec19ce7%29%3B%0A%20%20%20%20%20%20%20%20%20%20%20%20%0A%20%20%20%20%0A%20%20%20%20%20%20%20%20%20%20%20%20var%20popup_1fff18912e704e12a9d45077b85874f0%20%3D%20L.popup%28%7BmaxWidth%3A%20%27300%27%7D%29%3B%0A%0A%20%20%20%20%20%20%20%20%20%20%20%20%0A%20%20%20%20%20%20%20%20%20%20%20%20%20%20%20%20var%20html_349ca83fac30479b8bb22f05e33c553d%20%3D%20%24%28%27%3Cdiv%20id%3D%22html_349ca83fac30479b8bb22f05e33c553d%22%20style%3D%22width%3A%20100.0%25%3B%20height%3A%20100.0%25%3B%22%3EDunkin%20Dounat%3C/div%3E%27%29%5B0%5D%3B%0A%20%20%20%20%20%20%20%20%20%20%20%20%20%20%20%20popup_1fff18912e704e12a9d45077b85874f0.setContent%28html_349ca83fac30479b8bb22f05e33c553d%29%3B%0A%20%20%20%20%20%20%20%20%20%20%20%20%0A%0A%20%20%20%20%20%20%20%20%20%20%20%20circle_marker_e785fe2224304f6ba6a6a69ce7e774b0.bindPopup%28popup_1fff18912e704e12a9d45077b85874f0%29%3B%0A%0A%20%20%20%20%20%20%20%20%20%20%20%20%0A%20%20%20%20%20%20%20%20%0A%20%20%20%20%0A%20%20%20%20%20%20%20%20%20%20%20%20var%20circle_marker_28643b6b3db0475588c32b6ec5f69519%20%3D%20L.circleMarker%28%0A%20%20%20%20%20%20%20%20%20%20%20%20%20%20%20%20%5B21.534021498000822%2C39.20109969145246%5D%2C%0A%20%20%20%20%20%20%20%20%20%20%20%20%20%20%20%20%7B%0A%20%20%22bubblingMouseEvents%22%3A%20true%2C%0A%20%20%22color%22%3A%20%22red%22%2C%0A%20%20%22dashArray%22%3A%20null%2C%0A%20%20%22dashOffset%22%3A%20null%2C%0A%20%20%22fill%22%3A%20true%2C%0A%20%20%22fillColor%22%3A%20%22%233186cc%22%2C%0A%20%20%22fillOpacity%22%3A%200.7%2C%0A%20%20%22fillRule%22%3A%20%22evenodd%22%2C%0A%20%20%22lineCap%22%3A%20%22round%22%2C%0A%20%20%22lineJoin%22%3A%20%22round%22%2C%0A%20%20%22opacity%22%3A%201.0%2C%0A%20%20%22radius%22%3A%205%2C%0A%20%20%22stroke%22%3A%20true%2C%0A%20%20%22weight%22%3A%203%0A%7D%0A%20%20%20%20%20%20%20%20%20%20%20%20%20%20%20%20%29.addTo%28map_f4f283ce82dc40fcbd5c34a15ec19ce7%29%3B%0A%20%20%20%20%20%20%20%20%20%20%20%20%0A%20%20%20%20%0A%20%20%20%20%20%20%20%20%20%20%20%20var%20popup_ce80915d5edf441e974e6d47928b917c%20%3D%20L.popup%28%7BmaxWidth%3A%20%27300%27%7D%29%3B%0A%0A%20%20%20%20%20%20%20%20%20%20%20%20%0A%20%20%20%20%20%20%20%20%20%20%20%20%20%20%20%20var%20html_fe2f0945e6284442ac8fcbbc55212cc6%20%3D%20%24%28%27%3Cdiv%20id%3D%22html_fe2f0945e6284442ac8fcbbc55212cc6%22%20style%3D%22width%3A%20100.0%25%3B%20height%3A%20100.0%25%3B%22%3EAbu%20Zaid%20Restaurant%20%28%D9%85%D8%B7%D8%A7%D8%B9%D9%85%20%D8%A3%D8%A8%D9%88%20%D8%B2%D9%8A%D8%AF%29%3C/div%3E%27%29%5B0%5D%3B%0A%20%20%20%20%20%20%20%20%20%20%20%20%20%20%20%20popup_ce80915d5edf441e974e6d47928b917c.setContent%28html_fe2f0945e6284442ac8fcbbc55212cc6%29%3B%0A%20%20%20%20%20%20%20%20%20%20%20%20%0A%0A%20%20%20%20%20%20%20%20%20%20%20%20circle_marker_28643b6b3db0475588c32b6ec5f69519.bindPopup%28popup_ce80915d5edf441e974e6d47928b917c%29%3B%0A%0A%20%20%20%20%20%20%20%20%20%20%20%20%0A%20%20%20%20%20%20%20%20%0A%20%20%20%20%0A%20%20%20%20%20%20%20%20%20%20%20%20var%20circle_marker_cf62425abc3f479dadfbf07ab6b345da%20%3D%20L.circleMarker%28%0A%20%20%20%20%20%20%20%20%20%20%20%20%20%20%20%20%5B21.541838252197962%2C39.190843293372474%5D%2C%0A%20%20%20%20%20%20%20%20%20%20%20%20%20%20%20%20%7B%0A%20%20%22bubblingMouseEvents%22%3A%20true%2C%0A%20%20%22color%22%3A%20%22red%22%2C%0A%20%20%22dashArray%22%3A%20null%2C%0A%20%20%22dashOffset%22%3A%20null%2C%0A%20%20%22fill%22%3A%20true%2C%0A%20%20%22fillColor%22%3A%20%22%233186cc%22%2C%0A%20%20%22fillOpacity%22%3A%200.7%2C%0A%20%20%22fillRule%22%3A%20%22evenodd%22%2C%0A%20%20%22lineCap%22%3A%20%22round%22%2C%0A%20%20%22lineJoin%22%3A%20%22round%22%2C%0A%20%20%22opacity%22%3A%201.0%2C%0A%20%20%22radius%22%3A%205%2C%0A%20%20%22stroke%22%3A%20true%2C%0A%20%20%22weight%22%3A%203%0A%7D%0A%20%20%20%20%20%20%20%20%20%20%20%20%20%20%20%20%29.addTo%28map_f4f283ce82dc40fcbd5c34a15ec19ce7%29%3B%0A%20%20%20%20%20%20%20%20%20%20%20%20%0A%20%20%20%20%0A%20%20%20%20%20%20%20%20%20%20%20%20var%20popup_d06faccbeee34783a70b450e33641431%20%3D%20L.popup%28%7BmaxWidth%3A%20%27300%27%7D%29%3B%0A%0A%20%20%20%20%20%20%20%20%20%20%20%20%0A%20%20%20%20%20%20%20%20%20%20%20%20%20%20%20%20var%20html_c32cbe3f51b545c896cc6a78f1acca1c%20%3D%20%24%28%27%3Cdiv%20id%3D%22html_c32cbe3f51b545c896cc6a78f1acca1c%22%20style%3D%22width%3A%20100.0%25%3B%20height%3A%20100.0%25%3B%22%3EAshwaq%20Resturant%20%28%D9%85%D8%B7%D8%B9%D9%85%20%D8%A3%D8%B4%D9%88%D8%A7%D9%82%29%3C/div%3E%27%29%5B0%5D%3B%0A%20%20%20%20%20%20%20%20%20%20%20%20%20%20%20%20popup_d06faccbeee34783a70b450e33641431.setContent%28html_c32cbe3f51b545c896cc6a78f1acca1c%29%3B%0A%20%20%20%20%20%20%20%20%20%20%20%20%0A%0A%20%20%20%20%20%20%20%20%20%20%20%20circle_marker_cf62425abc3f479dadfbf07ab6b345da.bindPopup%28popup_d06faccbeee34783a70b450e33641431%29%3B%0A%0A%20%20%20%20%20%20%20%20%20%20%20%20%0A%20%20%20%20%20%20%20%20%0A%20%20%20%20%0A%20%20%20%20%20%20%20%20%20%20%20%20var%20circle_marker_77c5d27c400c4fbeadc352151523e980%20%3D%20L.circleMarker%28%0A%20%20%20%20%20%20%20%20%20%20%20%20%20%20%20%20%5B21.543123078008726%2C39.1970618930079%5D%2C%0A%20%20%20%20%20%20%20%20%20%20%20%20%20%20%20%20%7B%0A%20%20%22bubblingMouseEvents%22%3A%20true%2C%0A%20%20%22color%22%3A%20%22red%22%2C%0A%20%20%22dashArray%22%3A%20null%2C%0A%20%20%22dashOffset%22%3A%20null%2C%0A%20%20%22fill%22%3A%20true%2C%0A%20%20%22fillColor%22%3A%20%22%233186cc%22%2C%0A%20%20%22fillOpacity%22%3A%200.7%2C%0A%20%20%22fillRule%22%3A%20%22evenodd%22%2C%0A%20%20%22lineCap%22%3A%20%22round%22%2C%0A%20%20%22lineJoin%22%3A%20%22round%22%2C%0A%20%20%22opacity%22%3A%201.0%2C%0A%20%20%22radius%22%3A%205%2C%0A%20%20%22stroke%22%3A%20true%2C%0A%20%20%22weight%22%3A%203%0A%7D%0A%20%20%20%20%20%20%20%20%20%20%20%20%20%20%20%20%29.addTo%28map_f4f283ce82dc40fcbd5c34a15ec19ce7%29%3B%0A%20%20%20%20%20%20%20%20%20%20%20%20%0A%20%20%20%20%0A%20%20%20%20%20%20%20%20%20%20%20%20var%20popup_fac27b8d567b41e0af798436654d1e20%20%3D%20L.popup%28%7BmaxWidth%3A%20%27300%27%7D%29%3B%0A%0A%20%20%20%20%20%20%20%20%20%20%20%20%0A%20%20%20%20%20%20%20%20%20%20%20%20%20%20%20%20var%20html_be08f4a945d047ffa0bb92e65a6afc4c%20%3D%20%24%28%27%3Cdiv%20id%3D%22html_be08f4a945d047ffa0bb92e65a6afc4c%22%20style%3D%22width%3A%20100.0%25%3B%20height%3A%20100.0%25%3B%22%3EAl%20Sharq%20Shopping%20Center%20%28%D9%85%D8%AC%D9%85%D8%B9%20%D8%A7%D9%84%D8%B4%D8%B1%D9%82%20%D8%A7%D9%84%D8%AA%D8%AC%D8%A7%D8%B1%D9%8A%29%3C/div%3E%27%29%5B0%5D%3B%0A%20%20%20%20%20%20%20%20%20%20%20%20%20%20%20%20popup_fac27b8d567b41e0af798436654d1e20.setContent%28html_be08f4a945d047ffa0bb92e65a6afc4c%29%3B%0A%20%20%20%20%20%20%20%20%20%20%20%20%0A%0A%20%20%20%20%20%20%20%20%20%20%20%20circle_marker_77c5d27c400c4fbeadc352151523e980.bindPopup%28popup_fac27b8d567b41e0af798436654d1e20%29%3B%0A%0A%20%20%20%20%20%20%20%20%20%20%20%20%0A%20%20%20%20%20%20%20%20%0A%20%20%20%20%0A%20%20%20%20%20%20%20%20%20%20%20%20var%20circle_marker_b60bd93e5acd4f26a217e21fe05738b2%20%3D%20L.circleMarker%28%0A%20%20%20%20%20%20%20%20%20%20%20%20%20%20%20%20%5B21.549167333908414%2C39.19490413136169%5D%2C%0A%20%20%20%20%20%20%20%20%20%20%20%20%20%20%20%20%7B%0A%20%20%22bubblingMouseEvents%22%3A%20true%2C%0A%20%20%22color%22%3A%20%22red%22%2C%0A%20%20%22dashArray%22%3A%20null%2C%0A%20%20%22dashOffset%22%3A%20null%2C%0A%20%20%22fill%22%3A%20true%2C%0A%20%20%22fillColor%22%3A%20%22%233186cc%22%2C%0A%20%20%22fillOpacity%22%3A%200.7%2C%0A%20%20%22fillRule%22%3A%20%22evenodd%22%2C%0A%20%20%22lineCap%22%3A%20%22round%22%2C%0A%20%20%22lineJoin%22%3A%20%22round%22%2C%0A%20%20%22opacity%22%3A%201.0%2C%0A%20%20%22radius%22%3A%205%2C%0A%20%20%22stroke%22%3A%20true%2C%0A%20%20%22weight%22%3A%203%0A%7D%0A%20%20%20%20%20%20%20%20%20%20%20%20%20%20%20%20%29.addTo%28map_f4f283ce82dc40fcbd5c34a15ec19ce7%29%3B%0A%20%20%20%20%20%20%20%20%20%20%20%20%0A%20%20%20%20%0A%20%20%20%20%20%20%20%20%20%20%20%20var%20popup_de83bbd4984a41448cc7e6e7391d5c39%20%3D%20L.popup%28%7BmaxWidth%3A%20%27300%27%7D%29%3B%0A%0A%20%20%20%20%20%20%20%20%20%20%20%20%0A%20%20%20%20%20%20%20%20%20%20%20%20%20%20%20%20var%20html_25456ad7ca814551bf975d5d9d411941%20%3D%20%24%28%27%3Cdiv%20id%3D%22html_25456ad7ca814551bf975d5d9d411941%22%20style%3D%22width%3A%20100.0%25%3B%20height%3A%20100.0%25%3B%22%3E%D9%85%D8%B7%D8%A7%D8%A8%D8%AE%20%D9%88%D9%85%D8%B7%D8%A7%D8%B9%D9%85%20%D8%A7%D9%84%D8%B3%D8%B1%D9%88%D8%B1%3C/div%3E%27%29%5B0%5D%3B%0A%20%20%20%20%20%20%20%20%20%20%20%20%20%20%20%20popup_de83bbd4984a41448cc7e6e7391d5c39.setContent%28html_25456ad7ca814551bf975d5d9d411941%29%3B%0A%20%20%20%20%20%20%20%20%20%20%20%20%0A%0A%20%20%20%20%20%20%20%20%20%20%20%20circle_marker_b60bd93e5acd4f26a217e21fe05738b2.bindPopup%28popup_de83bbd4984a41448cc7e6e7391d5c39%29%3B%0A%0A%20%20%20%20%20%20%20%20%20%20%20%20%0A%20%20%20%20%20%20%20%20%0A%20%20%20%20%0A%20%20%20%20%20%20%20%20%20%20%20%20var%20circle_marker_72bdaa27fb1a4c678a0db464c1bc1f02%20%3D%20L.circleMarker%28%0A%20%20%20%20%20%20%20%20%20%20%20%20%20%20%20%20%5B21.534278%2C39.197908%5D%2C%0A%20%20%20%20%20%20%20%20%20%20%20%20%20%20%20%20%7B%0A%20%20%22bubblingMouseEvents%22%3A%20true%2C%0A%20%20%22color%22%3A%20%22red%22%2C%0A%20%20%22dashArray%22%3A%20null%2C%0A%20%20%22dashOffset%22%3A%20null%2C%0A%20%20%22fill%22%3A%20true%2C%0A%20%20%22fillColor%22%3A%20%22%233186cc%22%2C%0A%20%20%22fillOpacity%22%3A%200.7%2C%0A%20%20%22fillRule%22%3A%20%22evenodd%22%2C%0A%20%20%22lineCap%22%3A%20%22round%22%2C%0A%20%20%22lineJoin%22%3A%20%22round%22%2C%0A%20%20%22opacity%22%3A%201.0%2C%0A%20%20%22radius%22%3A%205%2C%0A%20%20%22stroke%22%3A%20true%2C%0A%20%20%22weight%22%3A%203%0A%7D%0A%20%20%20%20%20%20%20%20%20%20%20%20%20%20%20%20%29.addTo%28map_f4f283ce82dc40fcbd5c34a15ec19ce7%29%3B%0A%20%20%20%20%20%20%20%20%20%20%20%20%0A%20%20%20%20%0A%20%20%20%20%20%20%20%20%20%20%20%20var%20popup_de5d1e6d1e7a44d9a90333fe1fc793f9%20%3D%20L.popup%28%7BmaxWidth%3A%20%27300%27%7D%29%3B%0A%0A%20%20%20%20%20%20%20%20%20%20%20%20%0A%20%20%20%20%20%20%20%20%20%20%20%20%20%20%20%20var%20html_eafe0f5545884e4585e805ece23840de%20%3D%20%24%28%27%3Cdiv%20id%3D%22html_eafe0f5545884e4585e805ece23840de%22%20style%3D%22width%3A%20100.0%25%3B%20height%3A%20100.0%25%3B%22%3E%D9%85%D8%B1%D8%B3%D9%89%20%D8%A7%D9%84%D8%AD%D8%B6%D8%A7%D8%B1%D9%85%3C/div%3E%27%29%5B0%5D%3B%0A%20%20%20%20%20%20%20%20%20%20%20%20%20%20%20%20popup_de5d1e6d1e7a44d9a90333fe1fc793f9.setContent%28html_eafe0f5545884e4585e805ece23840de%29%3B%0A%20%20%20%20%20%20%20%20%20%20%20%20%0A%0A%20%20%20%20%20%20%20%20%20%20%20%20circle_marker_72bdaa27fb1a4c678a0db464c1bc1f02.bindPopup%28popup_de5d1e6d1e7a44d9a90333fe1fc793f9%29%3B%0A%0A%20%20%20%20%20%20%20%20%20%20%20%20%0A%20%20%20%20%20%20%20%20%0A%20%20%20%20%0A%20%20%20%20%20%20%20%20%20%20%20%20var%20circle_marker_a7fc556b66894b9595504c722182a53b%20%3D%20L.circleMarker%28%0A%20%20%20%20%20%20%20%20%20%20%20%20%20%20%20%20%5B21.53356%2C39.1986%5D%2C%0A%20%20%20%20%20%20%20%20%20%20%20%20%20%20%20%20%7B%0A%20%20%22bubblingMouseEvents%22%3A%20true%2C%0A%20%20%22color%22%3A%20%22red%22%2C%0A%20%20%22dashArray%22%3A%20null%2C%0A%20%20%22dashOffset%22%3A%20null%2C%0A%20%20%22fill%22%3A%20true%2C%0A%20%20%22fillColor%22%3A%20%22%233186cc%22%2C%0A%20%20%22fillOpacity%22%3A%200.7%2C%0A%20%20%22fillRule%22%3A%20%22evenodd%22%2C%0A%20%20%22lineCap%22%3A%20%22round%22%2C%0A%20%20%22lineJoin%22%3A%20%22round%22%2C%0A%20%20%22opacity%22%3A%201.0%2C%0A%20%20%22radius%22%3A%205%2C%0A%20%20%22stroke%22%3A%20true%2C%0A%20%20%22weight%22%3A%203%0A%7D%0A%20%20%20%20%20%20%20%20%20%20%20%20%20%20%20%20%29.addTo%28map_f4f283ce82dc40fcbd5c34a15ec19ce7%29%3B%0A%20%20%20%20%20%20%20%20%20%20%20%20%0A%20%20%20%20%0A%20%20%20%20%20%20%20%20%20%20%20%20var%20popup_28431d5ee96941be99037f550e9205f7%20%3D%20L.popup%28%7BmaxWidth%3A%20%27300%27%7D%29%3B%0A%0A%20%20%20%20%20%20%20%20%20%20%20%20%0A%20%20%20%20%20%20%20%20%20%20%20%20%20%20%20%20var%20html_b34c6efae8f745ee81e8d89642b3306c%20%3D%20%24%28%27%3Cdiv%20id%3D%22html_b34c6efae8f745ee81e8d89642b3306c%22%20style%3D%22width%3A%20100.0%25%3B%20height%3A%20100.0%25%3B%22%3EAl-Hamra%26%2339%3Ba%20Barbecue%20Rest.%20%D9%85%D8%B7%D8%A7%D8%B9%D9%85%20%D9%85%D8%B4%D9%88%D9%8A%D8%A7%D8%AA%20%D8%A7%D9%84%D8%AD%D9%85%D8%B1%D8%A7%D8%A1%3C/div%3E%27%29%5B0%5D%3B%0A%20%20%20%20%20%20%20%20%20%20%20%20%20%20%20%20popup_28431d5ee96941be99037f550e9205f7.setContent%28html_b34c6efae8f745ee81e8d89642b3306c%29%3B%0A%20%20%20%20%20%20%20%20%20%20%20%20%0A%0A%20%20%20%20%20%20%20%20%20%20%20%20circle_marker_a7fc556b66894b9595504c722182a53b.bindPopup%28popup_28431d5ee96941be99037f550e9205f7%29%3B%0A%0A%20%20%20%20%20%20%20%20%20%20%20%20%0A%20%20%20%20%20%20%20%20%0A%20%20%20%20%0A%20%20%20%20%20%20%20%20%20%20%20%20var%20circle_marker_4b0600cb2a71417ca164865fa69864c2%20%3D%20L.circleMarker%28%0A%20%20%20%20%20%20%20%20%20%20%20%20%20%20%20%20%5B21.54238%2C39.19797%5D%2C%0A%20%20%20%20%20%20%20%20%20%20%20%20%20%20%20%20%7B%0A%20%20%22bubblingMouseEvents%22%3A%20true%2C%0A%20%20%22color%22%3A%20%22green%22%2C%0A%20%20%22dashArray%22%3A%20null%2C%0A%20%20%22dashOffset%22%3A%20null%2C%0A%20%20%22fill%22%3A%20true%2C%0A%20%20%22fillColor%22%3A%20%22%233186cc%22%2C%0A%20%20%22fillOpacity%22%3A%200.7%2C%0A%20%20%22fillRule%22%3A%20%22evenodd%22%2C%0A%20%20%22lineCap%22%3A%20%22round%22%2C%0A%20%20%22lineJoin%22%3A%20%22round%22%2C%0A%20%20%22opacity%22%3A%201.0%2C%0A%20%20%22radius%22%3A%2015%2C%0A%20%20%22stroke%22%3A%20true%2C%0A%20%20%22weight%22%3A%203%0A%7D%0A%20%20%20%20%20%20%20%20%20%20%20%20%20%20%20%20%29.addTo%28map_f4f283ce82dc40fcbd5c34a15ec19ce7%29%3B%0A%20%20%20%20%20%20%20%20%20%20%20%20%0A%20%20%20%20%0A%20%20%20%20%20%20%20%20%20%20%20%20var%20popup_8632b5527461496f95cccdb62299e3c3%20%3D%20L.popup%28%7BmaxWidth%3A%20%27300%27%7D%29%3B%0A%0A%20%20%20%20%20%20%20%20%20%20%20%20%0A%20%20%20%20%20%20%20%20%20%20%20%20%20%20%20%20var%20html_a41b420b8cec4b5ea0d0009bcdc1166e%20%3D%20%24%28%27%3Cdiv%20id%3D%22html_a41b420b8cec4b5ea0d0009bcdc1166e%22%20style%3D%22width%3A%20100.0%25%3B%20height%3A%20100.0%25%3B%22%3EO%20Day%20Roi%21%3C/div%3E%27%29%5B0%5D%3B%0A%20%20%20%20%20%20%20%20%20%20%20%20%20%20%20%20popup_8632b5527461496f95cccdb62299e3c3.setContent%28html_a41b420b8cec4b5ea0d0009bcdc1166e%29%3B%0A%20%20%20%20%20%20%20%20%20%20%20%20%0A%0A%20%20%20%20%20%20%20%20%20%20%20%20circle_marker_4b0600cb2a71417ca164865fa69864c2.bindPopup%28popup_8632b5527461496f95cccdb62299e3c3%29%3B%0A%0A%20%20%20%20%20%20%20%20%20%20%20%20%0A%20%20%20%20%20%20%20%20%0A%3C/script%3E onload=\"this.contentDocument.open();this.contentDocument.write(    decodeURIComponent(this.getAttribute('data-html')));this.contentDocument.close();\" allowfullscreen webkitallowfullscreen mozallowfullscreen></iframe></div></div>"
      ],
      "text/plain": [
       "<folium.folium.Map at 0x7f9329d930b8>"
      ]
     },
     "execution_count": 17,
     "metadata": {},
     "output_type": "execute_result"
    }
   ],
   "source": [
    "lat = 21.54238\n",
    "lng = 39.19797\n",
    "map_jeddah = folium.Map(location=[lat, lng], zoom_start=17)\n",
    "add_markers(df)\n",
    "folium.CircleMarker(\n",
    "    [lat, lng],\n",
    "    radius=15,\n",
    "    popup=\"O Day Roi!\",\n",
    "    color='green',\n",
    "    fill=True,\n",
    "    fill_color='#3186cc',\n",
    "    fill_opacity=0.7,\n",
    "    parse_html=False).add_to(map_jeddah)\n",
    "map_jeddah"
   ]
  },
  {
   "cell_type": "code",
   "execution_count": null,
   "id": "88620676-85c3-4510-b2f8-28dc022226d9",
   "metadata": {},
   "outputs": [],
   "source": []
  }
 ],
 "metadata": {
  "kernelspec": {
   "display_name": "Python",
   "language": "python",
   "name": "conda-env-python-py"
  },
  "language_info": {
   "codemirror_mode": {
    "name": "ipython",
    "version": 3
   },
   "file_extension": ".py",
   "mimetype": "text/x-python",
   "name": "python",
   "nbconvert_exporter": "python",
   "pygments_lexer": "ipython3",
   "version": "3.6.13"
  }
 },
 "nbformat": 4,
 "nbformat_minor": 5
}
